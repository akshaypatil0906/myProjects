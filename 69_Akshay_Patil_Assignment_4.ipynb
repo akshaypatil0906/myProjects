{
 "cells": [
  {
   "cell_type": "markdown",
   "id": "d9028f61",
   "metadata": {},
   "source": [
    "## 1. Python program to sort Python Dictionaries by Keys"
   ]
  },
  {
   "cell_type": "code",
   "execution_count": 32,
   "id": "c91f1e13",
   "metadata": {},
   "outputs": [
    {
     "name": "stdout",
     "output_type": "stream",
     "text": [
      "{'INDIA': 'ISRO', 'JAPAN': 'JAXA', 'RUSSIA': 'ROSCOSMOS', 'USA': 'NASA'}\n"
     ]
    }
   ],
   "source": [
    "d1 = {\"INDIA\":\"ISRO\",\"USA\":\"NASA\",\"JAPAN\":\"JAXA\",\"RUSSIA\":\"ROSCOSMOS\"}\n",
    "d2 =sorted(d1.items())\n",
    "print(dict(d2))"
   ]
  },
  {
   "cell_type": "markdown",
   "id": "964f86f1",
   "metadata": {},
   "source": [
    "## 2. Python program to sort Python Dictionaries by Values"
   ]
  },
  {
   "cell_type": "code",
   "execution_count": 73,
   "id": "7ca48f9b",
   "metadata": {},
   "outputs": [
    {
     "name": "stdout",
     "output_type": "stream",
     "text": [
      "{'INDIA': 'ISRO', 'JAPAN': 'JAXA', 'USA': 'NASA', 'RUSSIA': 'ROSCOSMOS'}\n"
     ]
    }
   ],
   "source": [
    "d1 = {\"INDIA\":\"ISRO\",\"USA\":\"NASA\",\"JAPAN\":\"JAXA\",\"RUSSIA\":\"ROSCOSMOS\"}\n",
    "d2 = sorted(d1.values())\n",
    "d3 = dict(sorted(d1.items(), key=lambda item: item[1]))   \n",
    "print(d3)"
   ]
  },
  {
   "cell_type": "markdown",
   "id": "1194434f",
   "metadata": {},
   "source": [
    "## 3. Python program to find the sum of all items in a dictionary"
   ]
  },
  {
   "cell_type": "code",
   "execution_count": 126,
   "id": "9b791943",
   "metadata": {},
   "outputs": [
    {
     "name": "stdout",
     "output_type": "stream",
     "text": [
      "sum of values- 225\n",
      "sum of keys and values-  295\n"
     ]
    }
   ],
   "source": [
    "d1 = {\"a\":20,\"b\":65,\"c\":98,\"d\":42}\n",
    "a=0\n",
    "d2 = d1.values()\n",
    "for i in d2:  \n",
    "    a += i\n",
    "print(\"sum of values-\",a)\n",
    "\n",
    "d3 = {15:20,25:65,10:98,20:42}\n",
    "a = sum(d3.keys())\n",
    "b = sum(d3.values())\n",
    "c = a+b\n",
    "print(\"sum of keys and values- \",c)"
   ]
  },
  {
   "cell_type": "markdown",
   "id": "8997c908",
   "metadata": {},
   "source": [
    "## 4. Python program to remove a key from a dictionary"
   ]
  },
  {
   "cell_type": "code",
   "execution_count": 128,
   "id": "d9a551b3",
   "metadata": {},
   "outputs": [
    {
     "name": "stdout",
     "output_type": "stream",
     "text": [
      "{'b': 65, 'c': 98, 'd': 42}\n"
     ]
    }
   ],
   "source": [
    "d1 = {\"a\":20,\"b\":65,\"c\":98,\"d\":42}\n",
    "d1.pop(\"a\")\n",
    "print(d1)"
   ]
  },
  {
   "cell_type": "markdown",
   "id": "cc8733d9",
   "metadata": {},
   "source": [
    "## 5. Python program to merge two Dictionaries"
   ]
  },
  {
   "cell_type": "code",
   "execution_count": 133,
   "id": "64689816",
   "metadata": {},
   "outputs": [
    {
     "name": "stdout",
     "output_type": "stream",
     "text": [
      "{'a': 20, 'b': 65, 'c': 98, 'd': 42, 'ab': 54, 'bc': 50}\n"
     ]
    }
   ],
   "source": [
    "d1 = {\"a\":20,\"b\":65,\"c\":98,\"d\":42}\n",
    "d2 = {\"ab\":54,\"bc\":50}\n",
    "d1.update(d2)\n",
    "print(d1)"
   ]
  },
  {
   "cell_type": "markdown",
   "id": "1e240c70",
   "metadata": {},
   "source": [
    "## 6. Program to create grade calculator in Python"
   ]
  },
  {
   "cell_type": "code",
   "execution_count": 143,
   "id": "6e16d477",
   "metadata": {},
   "outputs": [
    {
     "name": "stdout",
     "output_type": "stream",
     "text": [
      "Enter number of subjects - 5\n",
      "Enter your Subject - english\n",
      "Enter marks - 88\n",
      "Enter your Subject - maths\n",
      "Enter marks - 92\n",
      "Enter your Subject - science\n",
      "Enter marks - 72\n",
      "Enter your Subject - history\n",
      "Enter marks - 90\n",
      "Enter your Subject - geography\n",
      "Enter marks - 87\n",
      "Grade B\n"
     ]
    }
   ],
   "source": [
    "d1 = {}\n",
    "inp3 = int(input(\"Enter number of subjects - \"))\n",
    "i = 0\n",
    "while i < inp3: \n",
    "    inp1 = input(\"Enter your Subject - \")\n",
    "    inp2 = int(input(\"Enter marks - \"))\n",
    "    if inp2 >100:\n",
    "        print(\"Wrong Input\")\n",
    "        break\n",
    "    d1.setdefault(inp1,inp2)\n",
    "    i+=1\n",
    "def cal():\n",
    "    global g\n",
    "    s = sum(d1.values())\n",
    "    g = s//inp3\n",
    "def grade():\n",
    "    if g >= 90:\n",
    "        print(\"Grade A\")\n",
    "    elif g >= 75:\n",
    "        print(\"Grade B\")\n",
    "    elif g >= 60:\n",
    "        print(\"Grade C\")\n",
    "    elif g >= 35:\n",
    "        print(\"Pass\")\n",
    "    else:\n",
    "        print(\"Fail\")\n",
    "cal()       \n",
    "grade()\n",
    "    "
   ]
  },
  {
   "cell_type": "markdown",
   "id": "1e2726d0",
   "metadata": {},
   "source": [
    "## 7. Print anagrams together in Python using List and Dictionary"
   ]
  },
  {
   "cell_type": "code",
   "execution_count": null,
   "id": "d1a6641e",
   "metadata": {},
   "outputs": [],
   "source": []
  }
 ],
 "metadata": {
  "kernelspec": {
   "display_name": "Python 3 (ipykernel)",
   "language": "python",
   "name": "python3"
  },
  "language_info": {
   "codemirror_mode": {
    "name": "ipython",
    "version": 3
   },
   "file_extension": ".py",
   "mimetype": "text/x-python",
   "name": "python",
   "nbconvert_exporter": "python",
   "pygments_lexer": "ipython3",
   "version": "3.8.5"
  }
 },
 "nbformat": 4,
 "nbformat_minor": 5
}
