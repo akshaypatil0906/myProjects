{
 "cells": [
  {
   "cell_type": "markdown",
   "id": "3b0c6987",
   "metadata": {},
   "source": [
    "# 1\n"
   ]
  },
  {
   "cell_type": "code",
   "execution_count": 29,
   "id": "695e5046",
   "metadata": {
    "scrolled": true
   },
   "outputs": [
    {
     "name": "stdout",
     "output_type": "stream",
     "text": [
      "Enter number to create pattarn- 5\n",
      "\n",
      "* \n",
      "* * \n",
      "* * * \n",
      "* * * * \n",
      "* * * * * \n"
     ]
    }
   ],
   "source": [
    "a = eval(input(\"Enter number to create pattarn- \"))\n",
    "for i in range(a+1):\n",
    "    for j in range(i):\n",
    "        print(\"*\", end =\" \")\n",
    "    print()"
   ]
  },
  {
   "cell_type": "code",
   "execution_count": 61,
   "id": "43c8e744",
   "metadata": {},
   "outputs": [
    {
     "name": "stdout",
     "output_type": "stream",
     "text": [
      "Enter number to create pattern- 5\n",
      "\n",
      "* \n",
      "* * \n",
      "* * * \n",
      "* * * * \n",
      "* * * * * \n"
     ]
    }
   ],
   "source": [
    "a = eval(input(\"Enter number to create pattern- \"))\n",
    "i = 0\n",
    "while i < a+1:\n",
    "    j = 0\n",
    "    while j < i:\n",
    "        print(\"*\",end = \" \")\n",
    "        j+=1\n",
    "    i+=1\n",
    "    print()\n",
    "    "
   ]
  },
  {
   "cell_type": "markdown",
   "id": "49d02add",
   "metadata": {},
   "source": [
    "# 2\n"
   ]
  },
  {
   "cell_type": "code",
   "execution_count": null,
   "id": "f47e9c0b",
   "metadata": {},
   "outputs": [],
   "source": []
  },
  {
   "cell_type": "code",
   "execution_count": 382,
   "id": "83bd5ade",
   "metadata": {},
   "outputs": [
    {
     "name": "stdout",
     "output_type": "stream",
     "text": [
      "      * \n",
      "      * * \n",
      "      * * * \n",
      "      * * * * \n",
      "      * * * * * \n"
     ]
    }
   ],
   "source": [
    "rows = 5\n",
    "r =8\n",
    "for j in range(1, rows+1):\n",
    "        print(\" \"*(rows)+\" *\" * j,end =\" \\n\" )"
   ]
  },
  {
   "cell_type": "code",
   "execution_count": 376,
   "id": "fae95ed5",
   "metadata": {},
   "outputs": [
    {
     "name": "stdout",
     "output_type": "stream",
     "text": [
      "     \n",
      "    *\n",
      "   **\n",
      "  ***\n",
      " ****\n"
     ]
    }
   ],
   "source": [
    "a = 5\n",
    "for i in range(0, a):\n",
    "    print(\" \"*(a-i)+\"*\"*i)"
   ]
  },
  {
   "cell_type": "code",
   "execution_count": 221,
   "id": "5531ebed",
   "metadata": {},
   "outputs": [
    {
     "name": "stdout",
     "output_type": "stream",
     "text": [
      "Enter number to create pattern - 5\n",
      "    *\n",
      "   **\n",
      "  ***\n",
      " ****\n",
      "*****\n"
     ]
    }
   ],
   "source": [
    "a= eval(input(\"Enter number to create pattern - \"))\n",
    "i = 1\n",
    "while i<= a:\n",
    "    print(\" \"*(a-i)+\"*\"*i)\n",
    "    i+=1"
   ]
  },
  {
   "cell_type": "markdown",
   "id": "7648f0b4",
   "metadata": {},
   "source": [
    "# 3"
   ]
  },
  {
   "cell_type": "code",
   "execution_count": null,
   "id": "ffe61c14",
   "metadata": {},
   "outputs": [],
   "source": []
  },
  {
   "cell_type": "code",
   "execution_count": 257,
   "id": "67e81e5b",
   "metadata": {},
   "outputs": [
    {
     "name": "stdout",
     "output_type": "stream",
     "text": [
      "Enter number to create pattarn- 5\n",
      "      \n",
      "     * \n",
      "    * * \n",
      "   * * * \n",
      "  * * * * \n",
      " * * * * * \n"
     ]
    }
   ],
   "source": [
    "a = eval(input(\"Enter number to create pattarn- \"))\n",
    "for i in range(a+1):\n",
    "    print(\" \"*(a-i)+\" *\"*i,end = \" \")\n",
    "    print()"
   ]
  },
  {
   "cell_type": "code",
   "execution_count": 31,
   "id": "23d5d8c0",
   "metadata": {},
   "outputs": [
    {
     "name": "stdout",
     "output_type": "stream",
     "text": [
      "Enter number to create pattern - 5\n",
      "    *\n",
      "   ***\n",
      "  *****\n",
      " *******\n",
      "*********\n"
     ]
    }
   ],
   "source": [
    "a= eval(input(\"Enter number to create pattern - \"))\n",
    "i = 1\n",
    "while i<= a:\n",
    "    print(\" \"*(a-i)+\"*\"*(i*2-1))\n",
    "    i+=1\n"
   ]
  },
  {
   "cell_type": "code",
   "execution_count": 68,
   "id": "b8fa2601",
   "metadata": {},
   "outputs": [
    {
     "name": "stdout",
     "output_type": "stream",
     "text": [
      "        * \n",
      "       * * \n",
      "      * * * \n",
      "     * * * * \n",
      "    * * * * * \n"
     ]
    }
   ],
   "source": [
    "rows = 5\n",
    "k = 2 * rows - 2\n",
    "for i in range(0,rows):\n",
    "    for j in range(0,k):\n",
    "        print(end=\" \")\n",
    "    k = k - 1\n",
    "    for j in range(0, i + 1):\n",
    "        print(\"*\", end=\" \")\n",
    "    print(\"\")"
   ]
  },
  {
   "cell_type": "markdown",
   "id": "abbc5cc0",
   "metadata": {},
   "source": [
    "# 4"
   ]
  },
  {
   "cell_type": "code",
   "execution_count": 96,
   "id": "38460b4f",
   "metadata": {},
   "outputs": [
    {
     "name": "stdout",
     "output_type": "stream",
     "text": [
      "                        * * * * * * * \n",
      "                          * * * * * \n",
      "                            * * * \n",
      "                              * \n"
     ]
    }
   ],
   "source": [
    "rows = 7\n",
    "k = 2 * rows - 2\n",
    "for i in range(rows,0,-2):\n",
    "    for j in range(k,0,-1):\n",
    "        print(end=\"  \")\n",
    "    k = k + 1\n",
    "    for j in range(0,i):\n",
    "        print(\"*\", end=\" \")\n",
    "    print(\"\")"
   ]
  },
  {
   "cell_type": "code",
   "execution_count": 411,
   "id": "eb521520",
   "metadata": {},
   "outputs": [
    {
     "name": "stdout",
     "output_type": "stream",
     "text": [
      "            \n",
      "             \n",
      "              \n",
      "               \n",
      "                \n",
      "                 \n",
      "                  \n"
     ]
    }
   ],
   "source": [
    "rows = 7\n",
    "k = 2*rows - 2\n",
    "i = 0\n",
    "while(i < rows):\n",
    "    j = 0\n",
    "    while(j<k):\n",
    "        print(end=\" \")\n",
    "        j+=1\n",
    "    k = k+1\n",
    "    while (j<i):\n",
    "        print(\"*\",end = \" \")\n",
    "        j+=1\n",
    "    i+=1\n",
    "    print(\"\")"
   ]
  },
  {
   "cell_type": "markdown",
   "id": "20795ce5",
   "metadata": {},
   "source": [
    "# 5"
   ]
  },
  {
   "cell_type": "code",
   "execution_count": 148,
   "id": "1b78808f",
   "metadata": {},
   "outputs": [
    {
     "name": "stdout",
     "output_type": "stream",
     "text": [
      "1 \n",
      "1 2 \n",
      "1 2 3 \n",
      "1 2 3 4 \n",
      "1 2 3 4 5 \n"
     ]
    }
   ],
   "source": [
    "a = 5 \n",
    "for i in range(1,a+1):\n",
    "    for j in range(i):\n",
    "        print(j+1,end =\" \")\n",
    "    print()"
   ]
  },
  {
   "cell_type": "code",
   "execution_count": 406,
   "id": "cf7f58a3",
   "metadata": {
    "scrolled": true
   },
   "outputs": [
    {
     "name": "stdout",
     "output_type": "stream",
     "text": [
      "\n",
      "1 \n",
      "1 2 \n",
      "1 2 3 \n",
      "1 2 3 4 \n",
      "1 2 3 4 5 \n"
     ]
    }
   ],
   "source": [
    "#a = eval(input(\"Enter number to create pattarn- \"))\n",
    "b=5\n",
    "i =0\n",
    "\n",
    "while (i < b+1):\n",
    "    j=0\n",
    "    while (j < i):\n",
    "        print(j+1, end =\" \")\n",
    "        j+=1\n",
    "    i+=1\n",
    "    print()"
   ]
  },
  {
   "cell_type": "markdown",
   "id": "4d8ef7b8",
   "metadata": {},
   "source": [
    "# 6"
   ]
  },
  {
   "cell_type": "code",
   "execution_count": 115,
   "id": "b6ea0216",
   "metadata": {},
   "outputs": [
    {
     "name": "stdout",
     "output_type": "stream",
     "text": [
      "Enter number to create pattarn- 5\n",
      "\n",
      "1 \n",
      "2 3 \n",
      "4 5 6 \n",
      "7 8 9 10 \n",
      "11 12 13 14 15 \n"
     ]
    }
   ],
   "source": [
    "a = int(input(\"Enter number to create pattarn- \"))\n",
    "count = 1\n",
    "for i in range(a+1):\n",
    "    for j in range(i):\n",
    "        print(count, end =\" \")\n",
    "        count+=1\n",
    "    print()"
   ]
  },
  {
   "cell_type": "code",
   "execution_count": 414,
   "id": "3a6bfcf3",
   "metadata": {},
   "outputs": [
    {
     "name": "stdout",
     "output_type": "stream",
     "text": [
      "1 \n",
      "2 3 \n",
      "4 5 6 \n",
      "7 8 9 10 \n",
      "11 12 13 14 15 \n"
     ]
    }
   ],
   "source": [
    "a = 5\n",
    "count = 1\n",
    "i = 0\n",
    "while(i<a):\n",
    "    j = 0\n",
    "    while(j<=i):\n",
    "        print(count,end =\" \")\n",
    "        count+=1\n",
    "        j+=1\n",
    "    i+=1\n",
    "    print()"
   ]
  },
  {
   "cell_type": "markdown",
   "id": "a788292d",
   "metadata": {},
   "source": [
    "# 7"
   ]
  },
  {
   "cell_type": "code",
   "execution_count": 116,
   "id": "d70bc188",
   "metadata": {},
   "outputs": [
    {
     "name": "stdout",
     "output_type": "stream",
     "text": [
      "        1 \n",
      "       1 1 \n",
      "      1 2 1 \n",
      "     1 3 3 1 \n",
      "    1 4 6 4 1 \n"
     ]
    }
   ],
   "source": [
    "n = 5\n",
    "k = 2 * n - 2\n",
    "for i in range(1,n + 1):  \n",
    "        m = 1; \n",
    "        for j in range(0,k):\n",
    "            print(end=\" \")\n",
    "        k = k - 1\n",
    "        for j in range(1,i + 1):\n",
    "            print(m, end = \" \")\n",
    "            m = int(m * (i - j) / j)  \n",
    "        print(\"\")"
   ]
  },
  {
   "cell_type": "markdown",
   "id": "6e8023aa",
   "metadata": {},
   "source": [
    "# 9"
   ]
  },
  {
   "cell_type": "code",
   "execution_count": 118,
   "id": "e1717042",
   "metadata": {},
   "outputs": [
    {
     "name": "stdout",
     "output_type": "stream",
     "text": [
      "A \n",
      "B B \n",
      "C C C \n",
      "D D D D \n",
      "E E E E E \n"
     ]
    }
   ],
   "source": [
    "a = 5\n",
    "b = 65\n",
    "for i in range (1,a+1):\n",
    "    for j in range (i):\n",
    "        print(chr(b),end =\" \")\n",
    "    b+=1\n",
    "    print()"
   ]
  },
  {
   "cell_type": "code",
   "execution_count": 147,
   "id": "d616865e",
   "metadata": {},
   "outputs": [
    {
     "name": "stdout",
     "output_type": "stream",
     "text": [
      "Enter number to create pattarn- 5\n",
      "A \n",
      "B B \n",
      "C C C \n",
      "D D D D \n"
     ]
    }
   ],
   "source": [
    "a = eval(input(\"Enter number to create pattarn- \"))\n",
    "count = 65\n",
    "count1 = 65\n",
    "for i in range(1,a):\n",
    "    for j in range(i):\n",
    "        print(chr(count) ,end =\" \")\n",
    "    count+=1\n",
    "    print()"
   ]
  },
  {
   "cell_type": "markdown",
   "id": "04491e96",
   "metadata": {},
   "source": [
    "# 10"
   ]
  },
  {
   "cell_type": "code",
   "execution_count": 59,
   "id": "bf467d85",
   "metadata": {},
   "outputs": [
    {
     "name": "stdout",
     "output_type": "stream",
     "text": [
      "Enter number to create pattarn- 5\n",
      "A \n",
      "B C \n",
      "D E F \n",
      "G H I J \n",
      "K L M N O \n"
     ]
    }
   ],
   "source": [
    "a = eval(input(\"Enter number to create pattarn- \"))\n",
    "count = 65\n",
    "for i in range(a):\n",
    "    for j in range(i+1):\n",
    "        cr = chr(count)\n",
    "        print(cr, end =\" \")\n",
    "        count+=1\n",
    "    print()"
   ]
  },
  {
   "cell_type": "code",
   "execution_count": null,
   "id": "da619a26",
   "metadata": {},
   "outputs": [],
   "source": []
  },
  {
   "cell_type": "markdown",
   "id": "310c12a2",
   "metadata": {},
   "source": [
    "# 11"
   ]
  },
  {
   "cell_type": "code",
   "execution_count": 57,
   "id": "db8ff6b4",
   "metadata": {},
   "outputs": [
    {
     "name": "stdout",
     "output_type": "stream",
     "text": [
      "Enter Char line count- 5\n",
      "\n",
      "k \n",
      "k k \n",
      "k k k \n",
      "k k k k \n",
      "k k k k k \n"
     ]
    }
   ],
   "source": [
    "a = int(input(\"Enter Char line count- \"))\n",
    "for i in range(0,a+1):\n",
    "    for j in range(0,i):\n",
    "        print(\"k\",end =\" \")\n",
    "    print()"
   ]
  },
  {
   "cell_type": "markdown",
   "id": "d65ba173",
   "metadata": {},
   "source": [
    "# 12"
   ]
  },
  {
   "cell_type": "code",
   "execution_count": 122,
   "id": "57f80b50",
   "metadata": {},
   "outputs": [
    {
     "name": "stdout",
     "output_type": "stream",
     "text": [
      "Enter number to create pattarn- 5\n",
      "A \n",
      "B C \n",
      "D E F \n",
      "G H I J \n",
      "K L M N O \n"
     ]
    }
   ],
   "source": [
    "a = eval(input(\"Enter number to create pattarn- \"))\n",
    "count = 65\n",
    "for i in range(a):\n",
    "    for j in range(i+1):\n",
    "        cr = chr(count)\n",
    "        print(cr, end =\" \")\n",
    "        count+=1\n",
    "    print()"
   ]
  },
  {
   "cell_type": "markdown",
   "id": "4d628c83",
   "metadata": {},
   "source": [
    "# 13"
   ]
  },
  {
   "cell_type": "code",
   "execution_count": 56,
   "id": "9413cb7a",
   "metadata": {},
   "outputs": [
    {
     "name": "stdout",
     "output_type": "stream",
     "text": [
      "p\n",
      "py\n",
      "pyt\n",
      "pyth\n",
      "pytho\n",
      "python\n"
     ]
    }
   ],
   "source": [
    "a = \"python\"\n",
    "x=\"\"\n",
    "for i in a:\n",
    "    x+=i\n",
    "    print(x)\n",
    "    "
   ]
  },
  {
   "cell_type": "markdown",
   "id": "e1792b73",
   "metadata": {},
   "source": [
    "# 14"
   ]
  },
  {
   "cell_type": "code",
   "execution_count": 174,
   "id": "59b5ad64",
   "metadata": {},
   "outputs": [
    {
     "name": "stdout",
     "output_type": "stream",
     "text": [
      "Enter Char line count- 5\n",
      "1 1 1 1 1 \n",
      "2 2 2 2 \n",
      "3 3 3 \n",
      "4 4 \n",
      "5 \n"
     ]
    }
   ],
   "source": [
    "a = int(input(\"Enter Char line count- \"))\n",
    "for i in range(a-1,-1,-1):\n",
    "    for j in range(i+1):\n",
    "        print(a-i,end =\" \")\n",
    "    print()"
   ]
  },
  {
   "cell_type": "markdown",
   "id": "e0e7097c",
   "metadata": {},
   "source": [
    "# 15"
   ]
  },
  {
   "cell_type": "code",
   "execution_count": 179,
   "id": "8a059667",
   "metadata": {},
   "outputs": [
    {
     "name": "stdout",
     "output_type": "stream",
     "text": [
      "Enter Char line count- 5\n",
      "5 5 5 5 5 \n",
      "4 4 4 4 \n",
      "3 3 3 \n",
      "2 2 \n",
      "1 \n",
      "\n"
     ]
    }
   ],
   "source": [
    "a = int(input(\"Enter Char line count- \"))\n",
    "for i in range(a,-1,-1):\n",
    "    for j in range(i):\n",
    "        print(i,end =\" \")\n",
    "    print()"
   ]
  },
  {
   "cell_type": "markdown",
   "id": "55d4aaa6",
   "metadata": {},
   "source": [
    "# 16"
   ]
  },
  {
   "cell_type": "code",
   "execution_count": 191,
   "id": "f40e80bd",
   "metadata": {},
   "outputs": [
    {
     "name": "stdout",
     "output_type": "stream",
     "text": [
      "0 1 2 3 4 5 \n",
      "0 1 2 3 4 \n",
      "0 1 2 3 \n",
      "0 1 2 \n",
      "0 1 \n"
     ]
    }
   ],
   "source": [
    "a = 6 \n",
    "for i in range(a,1,-1):\n",
    "    for j in range(i):\n",
    "        print(j,end =\" \")\n",
    "    print()"
   ]
  },
  {
   "cell_type": "markdown",
   "id": "615a2ab0",
   "metadata": {},
   "source": [
    "# 17"
   ]
  },
  {
   "cell_type": "code",
   "execution_count": 201,
   "id": "fa8cc3bc",
   "metadata": {},
   "outputs": [
    {
     "name": "stdout",
     "output_type": "stream",
     "text": [
      "\n",
      "1 \n",
      "2 3 4 \n",
      "5 6 7 8 9 \n"
     ]
    }
   ],
   "source": [
    "a =7\n",
    "count = 1\n",
    "for i in range(0,a+1,2):\n",
    "    for j in range(1,i):\n",
    "        print(count,end=\" \")\n",
    "        count+=1\n",
    "    print()"
   ]
  },
  {
   "cell_type": "markdown",
   "id": "fc98ffea",
   "metadata": {},
   "source": [
    "# 18"
   ]
  },
  {
   "cell_type": "code",
   "execution_count": 204,
   "id": "8abe3658",
   "metadata": {},
   "outputs": [
    {
     "name": "stdout",
     "output_type": "stream",
     "text": [
      "6 5 4 3 2 1 \n",
      "5 4 3 2 1 \n",
      "4 3 2 1 \n",
      "3 2 1 \n",
      "2 1 \n",
      "1 \n"
     ]
    }
   ],
   "source": [
    "a = 6 \n",
    "for i in range(a,0,-1):\n",
    "    for j in range(i,0,-1):\n",
    "        print(j,end =\" \")\n",
    "    print()"
   ]
  },
  {
   "cell_type": "markdown",
   "id": "a9851efb",
   "metadata": {},
   "source": [
    "# 19"
   ]
  },
  {
   "cell_type": "code",
   "execution_count": 213,
   "id": "0303e730",
   "metadata": {},
   "outputs": [
    {
     "name": "stdout",
     "output_type": "stream",
     "text": [
      "1 \n",
      "3 3 \n",
      "5 5 5 \n",
      "7 7 7 7 \n",
      "9 9 9 9 9 \n"
     ]
    }
   ],
   "source": [
    "a = 10\n",
    "for i in range(1,a,2):\n",
    "    for j in range(0,i,2):\n",
    "        print(i,end =\" \")\n",
    "    print()"
   ]
  },
  {
   "cell_type": "markdown",
   "id": "3929eecd",
   "metadata": {},
   "source": [
    "# 20"
   ]
  },
  {
   "cell_type": "code",
   "execution_count": 259,
   "id": "dd509b65",
   "metadata": {},
   "outputs": [
    {
     "name": "stdout",
     "output_type": "stream",
     "text": [
      "      0\n",
      "     1\n",
      "    2\n",
      "   3\n",
      "  4\n"
     ]
    }
   ],
   "source": [
    "a = 5\n",
    "for i in range(0, a):\n",
    "    print(\" \"*(a-i),i)"
   ]
  },
  {
   "cell_type": "markdown",
   "id": "1487b3a4",
   "metadata": {},
   "source": [
    "# 21"
   ]
  },
  {
   "cell_type": "code",
   "execution_count": 260,
   "id": "a67062a9",
   "metadata": {},
   "outputs": [
    {
     "name": "stdout",
     "output_type": "stream",
     "text": [
      "1 2 3 4 5 \n",
      "2 2 3 4 5 \n",
      "3 3 3 4 5 \n",
      "4 4 4 4 5 \n",
      "5 5 5 5 5 \n"
     ]
    }
   ],
   "source": [
    "n = 5\n",
    "for i in range(1,n+1):\n",
    "    for j in range(1,i):\n",
    "        print(i,end=\" \")\n",
    "    for k in range(i,n+1):\n",
    "        print(k,end = \" \")\n",
    "    print()"
   ]
  },
  {
   "cell_type": "markdown",
   "id": "5c1ce1a3",
   "metadata": {},
   "source": [
    "# 22"
   ]
  },
  {
   "cell_type": "code",
   "execution_count": 287,
   "id": "e86be494",
   "metadata": {},
   "outputs": [
    {
     "name": "stdout",
     "output_type": "stream",
     "text": [
      "1 \n",
      "2 4 \n",
      "3 6 9 \n",
      "4 8 12 16 \n",
      "5 10 15 20 25 \n",
      "6 12 18 24 30 36 \n",
      "7 14 21 28 35 42 49 \n"
     ]
    }
   ],
   "source": [
    "a =8\n",
    "count = 1\n",
    "for i in range(1,a,1):\n",
    "    for j in range(1,i+1):\n",
    "        print(j*i,end=\" \")\n",
    "    print()"
   ]
  },
  {
   "cell_type": "markdown",
   "id": "f338ef56",
   "metadata": {},
   "source": [
    "# 23"
   ]
  },
  {
   "cell_type": "code",
   "execution_count": 397,
   "id": "c67ede38",
   "metadata": {},
   "outputs": [
    {
     "name": "stdout",
     "output_type": "stream",
     "text": [
      "1 \n",
      "2 1 \n",
      "4 2 1 \n",
      "8 4 2 1 \n",
      "16 8 4 2 1 \n",
      "32 16 8 4 2 1 \n",
      "64 32 16 8 4 2 1 \n",
      "128 64 32 16 8 4 2 1 \n"
     ]
    }
   ],
   "source": [
    "a = 7\n",
    "for i in range(a+1):\n",
    "    for j in range(i,-1,-1):\n",
    "        print(2**j,end =\" \")\n",
    "    \n",
    "        #b+=j\n",
    "    print()"
   ]
  },
  {
   "cell_type": "markdown",
   "id": "fc1363ed",
   "metadata": {},
   "source": [
    "# 24"
   ]
  },
  {
   "cell_type": "code",
   "execution_count": 54,
   "id": "ec7f11d0",
   "metadata": {
    "scrolled": true
   },
   "outputs": [
    {
     "name": "stdout",
     "output_type": "stream",
     "text": [
      "Enter number = 5\n",
      "* \n",
      "* * \n",
      "* * * \n",
      "* * * * \n",
      "* * * * * \n",
      "* * * * * \n",
      "* * * * \n",
      "* * * \n",
      "* * \n",
      "* \n"
     ]
    }
   ],
   "source": [
    "a =  int(input(\"Enter number = \"))\n",
    "for i in range(0,a):\n",
    "    for j in range(0,i+1):\n",
    "        print(\"*\",end = \" \")\n",
    "    print()\n",
    "for i in range(a,0,-1):\n",
    "    for j in range(i):\n",
    "        print(\"*\", end =\" \")\n",
    "    print()"
   ]
  },
  {
   "cell_type": "markdown",
   "id": "be66571c",
   "metadata": {},
   "source": [
    "# 25"
   ]
  },
  {
   "cell_type": "code",
   "execution_count": 53,
   "id": "5c9ba082",
   "metadata": {},
   "outputs": [
    {
     "name": "stdout",
     "output_type": "stream",
     "text": [
      "Enter number = 5\n",
      "* \n",
      "* * \n",
      "* * * \n",
      "* * * * \n",
      "* * * * * \n",
      "\n",
      "* * * * * \n",
      "* * * * \n",
      "* * * \n",
      "* * \n",
      "* \n"
     ]
    }
   ],
   "source": [
    "a =  int(input(\"Enter number = \"))\n",
    "for i in range(0,a):\n",
    "    for j in range(0,i+1):\n",
    "        print(\"*\",end = \" \")\n",
    "    print()\n",
    "print()\n",
    "for i in range(a,0,-1):\n",
    "    for j in range(i):\n",
    "        print(\"*\", end =\" \")\n",
    "    print()"
   ]
  },
  {
   "cell_type": "markdown",
   "id": "6af06b0e",
   "metadata": {},
   "source": [
    "# practice"
   ]
  },
  {
   "cell_type": "code",
   "execution_count": 52,
   "id": "c1dc23b0",
   "metadata": {},
   "outputs": [
    {
     "name": "stdout",
     "output_type": "stream",
     "text": [
      "Enter number to create pattern - 5\n",
      " *******\n",
      "  *****\n",
      "   ***\n",
      "    *\n",
      "    *\n",
      "   ***\n",
      "  *****\n",
      " *******\n",
      "*********\n"
     ]
    }
   ],
   "source": [
    "a= int(input(\"Enter number to create pattern - \"))\n",
    "for i in range(a-1,0,-1):\n",
    "    print(\" \"*(a-i)+\"*\"*(i*2-1))\n",
    "    i+=1\n",
    "i = 1\n",
    "while i<= a:\n",
    "    print(\" \"*(a-i)+\"*\"*(i*2-1))\n",
    "    i+=1\n",
    "\n",
    "#a = eval(input(\"Enter number = \"))\n"
   ]
  },
  {
   "cell_type": "code",
   "execution_count": 51,
   "id": "bd60622a",
   "metadata": {},
   "outputs": [
    {
     "name": "stdout",
     "output_type": "stream",
     "text": [
      "enter number = 10\n",
      "1 \n",
      "3 3 \n",
      "5 5 5 \n",
      "7 7 7 7 \n",
      "9 9 9 9 9 \n"
     ]
    }
   ],
   "source": [
    "a = int(input(\"enter number = \"))\n",
    "for i in range(1,a+1,2):\n",
    "    for j in range(0,i,2):\n",
    "        print(i,end =\" \")\n",
    "    print()"
   ]
  },
  {
   "cell_type": "code",
   "execution_count": 49,
   "id": "0e134caa",
   "metadata": {},
   "outputs": [
    {
     "name": "stdout",
     "output_type": "stream",
     "text": [
      "Enter number = 5\n",
      "1  \t2  \t3  \t4  \t5  \t\n",
      "2  \t4  \t6  \t8  \t10  \t\n",
      "3  \t6  \t9  \t12  \t15  \t\n",
      "4  \t8  \t12  \t16  \t20  \t\n",
      "5  \t10  \t15  \t20  \t25  \t\n"
     ]
    }
   ],
   "source": [
    "a = int(input(\"Enter number = \"))\n",
    "for i in range(1,a+1):\n",
    "    for j in range(1,a+1):\n",
    "        print(i*j,end = \"  \\t\")\n",
    "    print()"
   ]
  },
  {
   "cell_type": "code",
   "execution_count": 3,
   "id": "d033017a",
   "metadata": {},
   "outputs": [
    {
     "name": "stdout",
     "output_type": "stream",
     "text": [
      "1 2 3 4 5 \n",
      "2 2 3 4 5 \n",
      "3 3 3 4 5 \n",
      "4 4 4 4 5 \n",
      "5 5 5 5 5 \n"
     ]
    }
   ],
   "source": [
    "n = 5\n",
    "for i in range(1,n+1):\n",
    "    for j in range(1,i):\n",
    "        print(i,end=\" \")\n",
    "    for k in range(i,n+1):\n",
    "        print(k,end = \" \")\n",
    "    print()"
   ]
  },
  {
   "cell_type": "code",
   "execution_count": 28,
   "id": "432a72cd",
   "metadata": {},
   "outputs": [
    {
     "name": "stdout",
     "output_type": "stream",
     "text": [
      "1 2 3 4 5 \n",
      "2 \n",
      "3 \n",
      "4 \n",
      "5 \n"
     ]
    }
   ],
   "source": [
    "n = 5\n",
    "i = 1\n",
    "j = 1\n",
    "k = i\n",
    "while (i < n+1):\n",
    "    while (j < i):\n",
    "        print(i,end=\" \")\n",
    "       \n",
    "        j+=1\n",
    "    while (k < n+1):\n",
    "        print(k,end =\" \")\n",
    "        k+=1\n",
    "        #print()\n",
    "    i+=1\n",
    "    print()\n",
    "    "
   ]
  },
  {
   "cell_type": "code",
   "execution_count": 40,
   "id": "eb9fee39",
   "metadata": {},
   "outputs": [
    {
     "name": "stdout",
     "output_type": "stream",
     "text": [
      "        0 \n",
      "       1 1 \n",
      "      2 2 2 \n",
      "     3 3 3 3 \n",
      "    4 4 4 4 4 \n"
     ]
    }
   ],
   "source": [
    "rows = 5\n",
    "k = 2 * rows - 2\n",
    "for i in range(0,rows):\n",
    "    for j in range(0,k):\n",
    "        print(end=\" \")\n",
    "    k = k - 1\n",
    "    for j in range(0, i + 1):\n",
    "        print(i, end=\" \")\n",
    "    print(\"\")"
   ]
  },
  {
   "cell_type": "code",
   "execution_count": 48,
   "id": "9a8545b0",
   "metadata": {},
   "outputs": [
    {
     "name": "stdout",
     "output_type": "stream",
     "text": [
      "        1 \n",
      "       1 1 \n",
      "      1 2 1 \n",
      "     1 3 3 1 \n",
      "    1 4 6 4 1 \n"
     ]
    }
   ],
   "source": []
  },
  {
   "cell_type": "code",
   "execution_count": 67,
   "id": "bd4bfa4f",
   "metadata": {},
   "outputs": [
    {
     "name": "stdout",
     "output_type": "stream",
     "text": [
      "\n",
      "1 \n",
      "2 3 \n",
      "4 5 6 \n",
      "7 8 9 10 \n",
      "11 12 13 14 15 \n"
     ]
    }
   ],
   "source": [
    "a = 5\n",
    "b = 1\n",
    "for i in range(0, a+1):\n",
    "    for j in range(i):\n",
    "        print(b,end=\" \")\n",
    "        b+=1\n",
    "    print()"
   ]
  },
  {
   "cell_type": "code",
   "execution_count": 353,
   "id": "a95d5e01",
   "metadata": {},
   "outputs": [
    {
     "name": "stdout",
     "output_type": "stream",
     "text": [
      "Enter number to create pattern - 5\n",
      "    *\n",
      "   ***\n",
      "  *****\n",
      " *******\n",
      "*********\n",
      " *******\n",
      "  *****\n",
      "   ***\n",
      "    *\n"
     ]
    }
   ],
   "source": [
    "a= int(input(\"Enter number to create pattern - \"))\n",
    "i = 1\n",
    "while i<= a:\n",
    "    print(\" \"*(a-i)+\"*\"*(i*2-1))\n",
    "    i+=1\n",
    "\n",
    "#a = eval(input(\"Enter number = \"))\n",
    "for i in range(a-1,0,-1):\n",
    "    print(\" \"*(a-i)+\"*\"*(i*2-1))\n",
    "    i+=1"
   ]
  },
  {
   "cell_type": "code",
   "execution_count": null,
   "id": "e6eb9a6c",
   "metadata": {},
   "outputs": [],
   "source": []
  }
 ],
 "metadata": {
  "kernelspec": {
   "display_name": "Python 3 (ipykernel)",
   "language": "python",
   "name": "python3"
  },
  "language_info": {
   "codemirror_mode": {
    "name": "ipython",
    "version": 3
   },
   "file_extension": ".py",
   "mimetype": "text/x-python",
   "name": "python",
   "nbconvert_exporter": "python",
   "pygments_lexer": "ipython3",
   "version": "3.8.5"
  }
 },
 "nbformat": 4,
 "nbformat_minor": 5
}
