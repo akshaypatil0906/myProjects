{
 "cells": [
  {
   "cell_type": "markdown",
   "id": "40e2bf25",
   "metadata": {},
   "source": [
    "## What are the key features of Python?"
   ]
  },
  {
   "cell_type": "raw",
   "id": "88fb8cac",
   "metadata": {},
   "source": [
    "1. Easy to code\n",
    "2. Easy to read\n",
    "3. Free and open Source\n",
    "4. Intepreted \n",
    "5. Portable\n",
    "6. object and procedure oriented\n",
    "7. Extensible\n",
    "8. support for GUI\n",
    "9. Dynamically Typed \n",
    "10.High level language\n",
    "11.large amount of libraries"
   ]
  },
  {
   "cell_type": "markdown",
   "id": "16ee7ad7",
   "metadata": {},
   "source": [
    "## What are the Data Types in Python?"
   ]
  },
  {
   "cell_type": "raw",
   "id": "bfca8ee9",
   "metadata": {},
   "source": [
    "Text Type:\tstr\n",
    "Numeric Types:\tint, float, complex\n",
    "Sequence Types:\tlist, tuple, range\n",
    "Mapping Type:\tdict\n",
    "Set Types:\tset, frozenset\n",
    "Boolean Type:\tbool\n",
    "Binary Types:\tbytes, bytearray, memoryview"
   ]
  },
  {
   "cell_type": "markdown",
   "id": "61ab197a",
   "metadata": {},
   "source": [
    "## What are local variables and global variables in Python?"
   ]
  },
  {
   "cell_type": "raw",
   "id": "b4a0ce9f",
   "metadata": {},
   "source": [
    "Global variables are those which are not defined inside any function and have a global scope whereas local variables are those which are defined inside a function and its scope is limited to that function only."
   ]
  },
  {
   "cell_type": "markdown",
   "id": "3916d38e",
   "metadata": {},
   "source": [
    "## How do you write comments in python? And Why Comments are important?"
   ]
  },
  {
   "cell_type": "raw",
   "id": "b800bd68",
   "metadata": {},
   "source": [
    "Comments in Python are identified with a hash symbol, #, and extend to the end of the line. Hash characters in a string are not considered comments, however. There are three ways to write a comment \n",
    "1. single line command\n",
    "#singleline command\n",
    "2. multiline command\n",
    "'''multiline command'''\n",
    "3. python docstring\n",
    "def power(a, b):\n",
    "    \"\"\"Returns arg1 raised to power arg2.\"\"\"  \n",
    "    return a**b  \n",
    "print(power.__doc__)\n",
    "Importance of comments\n",
    "Commenting involves placing Human Readable Descriptions inside of computer programs detailing what the Code is doing. Proper use of commenting can make code maintenance much easier, as well as helping make finding bugs faster. "
   ]
  },
  {
   "cell_type": "markdown",
   "id": "213845dc",
   "metadata": {},
   "source": [
    "## How to comment on multiple lines in python?"
   ]
  },
  {
   "cell_type": "raw",
   "id": "2356dbb1",
   "metadata": {},
   "source": [
    "Python does not really have a syntax for multi line comments.\n",
    "To add a multiline comment you could insert a # for each line.\n",
    "Since Python will ignore string literals that are not assigned to a variable, you can add a multiline string (triple quotes) in your code, and place your comment inside it.\n",
    "print(\"\"\"Hellow \n",
    "python\"\"\")"
   ]
  },
  {
   "cell_type": "markdown",
   "id": "168eefc2",
   "metadata": {},
   "source": [
    "## What do you mean by Python literals?"
   ]
  },
  {
   "cell_type": "raw",
   "id": "ddc6ae82",
   "metadata": {},
   "source": [
    "Literals in Python is defined as the raw data assigned to variables or constants while programming. We mainly have five types of literals which includes string literals, numeric literals, boolean literals, literal collections and a special literal None."
   ]
  },
  {
   "cell_type": "markdown",
   "id": "8f06473c",
   "metadata": {},
   "source": [
    "## What are different ways to assign value to variables?"
   ]
  },
  {
   "cell_type": "raw",
   "id": "7f0546cb",
   "metadata": {},
   "source": [
    " In python there are multiple ways we can declare a variable and assign value to it.\n",
    "1. Direct Initialisation\n",
    "a = 1\n",
    "print(a)\n",
    "2. using if else\n",
    "a =10 \n",
    "b =20\n",
    "if (a>b):\n",
    "    c = a\n",
    "    print(c)\n",
    "else:\n",
    "    c=b\n",
    "    print (c)"
   ]
  },
  {
   "cell_type": "markdown",
   "id": "03c1b115",
   "metadata": {},
   "source": [
    "## What are the Escape Characters in python?"
   ]
  },
  {
   "cell_type": "raw",
   "id": "32f024db",
   "metadata": {},
   "source": [
    "To insert characters that are illegal in a string, use an escape character.\n",
    "An escape character is a backslash \\ followed by the character you want to insert.\n",
    "ex.\n",
    "without escape \n",
    "txt = \"Hi i am \"Akshay\" from sangli.\"\n",
    "with escape\n",
    "txt = \"Hi i am \\\"Akshay\\\" from sangli.\""
   ]
  },
  {
   "cell_type": "markdown",
   "id": "3f25c645",
   "metadata": {},
   "source": [
    "## Which are the different ways to perform string formatting? Explain with example."
   ]
  },
  {
   "cell_type": "raw",
   "id": "578b64b7",
   "metadata": {},
   "source": [
    "String formatting is an essential feature in the programming languages to format or insert user-specified values and positions in the strings. \n",
    "1. Old Style” String Formatting (% Operator)\n",
    "name ='Bob'\n",
    "'Hello, %s' % name\n",
    "\"Hello, Bob\"\n",
    "2. “New Style” String Formatting (str.format)\n",
    "name = 'Bob'\n",
    "'Hello, {}'.format(name)\n",
    "'Hello, Bob'\n",
    "3. String Interpolation / f-Strings \n",
    "name ='bob'\n",
    "f'Hello, {name}!'\n",
    "'Hello, Bob!'\n",
    "4. Template Strings\n",
    "from string import Template\n",
    ">>> t = Template('Hey, $name!')\n",
    ">>> t.substitute(name=name)\n",
    "'Hey, Bob!'"
   ]
  },
  {
   "cell_type": "markdown",
   "id": "648dbd9a",
   "metadata": {},
   "source": [
    "## Write a program to print every character of a string entered by the user in a new line using a loop"
   ]
  },
  {
   "cell_type": "code",
   "execution_count": 8,
   "id": "bf9c474b",
   "metadata": {},
   "outputs": [
    {
     "name": "stdout",
     "output_type": "stream",
     "text": [
      "W\n",
      "e\n",
      "l\n",
      "c\n",
      "o\n",
      "m\n",
      "e\n",
      " \n",
      "t\n",
      "o\n",
      " \n",
      "w\n",
      "o\n",
      "r\n",
      "l\n",
      "d\n",
      " \n",
      "o\n",
      "f\n",
      " \n",
      "'\n",
      "P\n",
      "y\n",
      "t\n",
      "h\n",
      "o\n",
      "n\n",
      "'\n"
     ]
    }
   ],
   "source": [
    "string = \"Welcome to world of 'Python'\"\n",
    "for i in string:\n",
    "    print(i)"
   ]
  },
  {
   "cell_type": "markdown",
   "id": "3c235169",
   "metadata": {},
   "source": [
    "## Write a program to find the length of the string \"machine learning\" with and without using len function."
   ]
  },
  {
   "cell_type": "code",
   "execution_count": 7,
   "id": "fa541ea4",
   "metadata": {},
   "outputs": [
    {
     "name": "stdout",
     "output_type": "stream",
     "text": [
      "Lenth using len - 16\n",
      "Lenth using for loop- 16\n"
     ]
    }
   ],
   "source": [
    "string1 = \"Machine Learning\"\n",
    "print(\"Lenth using len -\",len(string1))\n",
    "c =0\n",
    "for i in string1:\n",
    "    c =c+ 1\n",
    "print(\"Lenth using for loop-\",c)"
   ]
  },
  {
   "cell_type": "markdown",
   "id": "bdd4efac",
   "metadata": {},
   "source": [
    "## Write a program to check if the word 'orange' is present in the \"This is orange juice\"."
   ]
  },
  {
   "cell_type": "code",
   "execution_count": 13,
   "id": "b02197e9",
   "metadata": {},
   "outputs": [
    {
     "name": "stdout",
     "output_type": "stream",
     "text": [
      "orange is present.\n"
     ]
    }
   ],
   "source": [
    "juice = \"This is orange juice\"\n",
    "if 'orange' in juice:\n",
    "    print(\"orange is present.\")\n",
    "else:\n",
    "    print(\"orange not present\")"
   ]
  },
  {
   "cell_type": "markdown",
   "id": "285c91ba",
   "metadata": {},
   "source": [
    "## Write a program to find the number of vowels, consonants, digits, and white space characters in a string."
   ]
  },
  {
   "cell_type": "code",
   "execution_count": 52,
   "id": "9e2c2709",
   "metadata": {},
   "outputs": [
    {
     "name": "stdout",
     "output_type": "stream",
     "text": [
      "Vowels - 6\n",
      "Consonants - 17\n",
      "digits - 2\n",
      "White Spaces - 3\n"
     ]
    }
   ],
   "source": [
    "input_str = \"welcome to 21th century\"\n",
    "\n",
    "vls = 0\n",
    "for i in input_str:\n",
    "    if (i == 'a' or i=='i' or i=='e' or i=='o' or i=='u'):\n",
    "        vls = vls+ 1\n",
    "print(\"Vowels -\",vls)\n",
    "print(\"Consonants -\",len(input_str)-vls)\n",
    "digit = 0\n",
    "for i in input_str:\n",
    "    if (i == '1' or i=='2' or i=='3' or i=='4' or i=='5' or i =='6' or i =='7' or i=='8' or i == '9' or i =='0'):\n",
    "        digit = digit +1\n",
    "print(\"digits -\",digit)\n",
    "space = 0\n",
    "for i in input_str:\n",
    "    if (i == ' '):\n",
    "        space = space +1\n",
    "print(\"White Spaces -\",space)\n",
    "\n",
    "    "
   ]
  },
  {
   "cell_type": "markdown",
   "id": "bafac7c5",
   "metadata": {},
   "source": [
    "## Write a Python program to count Uppercase, Lowercase, special character, and numeric values in a given string."
   ]
  },
  {
   "cell_type": "code",
   "execution_count": 137,
   "id": "98f933df",
   "metadata": {},
   "outputs": [
    {
     "name": "stdout",
     "output_type": "stream",
     "text": [
      "uppercase =  2\n",
      "lowercase =  14\n",
      "special - 1\n",
      "digits -  2\n",
      "Spaces -  3\n"
     ]
    }
   ],
   "source": [
    "str1 = \"Welcome @ 21th Century\"\n",
    "a = len(str1)\n",
    "upper =0\n",
    "lower = 0\n",
    "digit =0\n",
    "special = 0\n",
    "space = 0\n",
    "for i in range(0, a) :\n",
    "    t = str1[i]\n",
    "    if (t >='A' and t <='Z'):\n",
    "        upper += 1\n",
    "    elif (t >='a' and t <='z'):\n",
    "        lower+=1\n",
    "    elif(t >='0' and t <='9'):\n",
    "        digit+=1\n",
    "    elif(t == \" \"):\n",
    "        space+=1\n",
    "       \n",
    "    else:\n",
    "        special +=1  \n",
    "print(\"uppercase = \",upper)\n",
    "print(\"lowercase = \",lower)\n",
    "print(\"special -\",special)\n",
    "print(\"digits - \",digit)\n",
    "print(\"Spaces - \",space)"
   ]
  },
  {
   "cell_type": "markdown",
   "id": "9d1675eb",
   "metadata": {},
   "source": [
    "## Write a program to make a new string with all the consonants deleted from the string \"Hello, have a good day\"."
   ]
  },
  {
   "cell_type": "code",
   "execution_count": 142,
   "id": "f89c9cae",
   "metadata": {},
   "outputs": [
    {
     "name": "stdout",
     "output_type": "stream",
     "text": [
      "Hll, hv  gd dy\n"
     ]
    },
    {
     "data": {
      "text/plain": [
       "str"
      ]
     },
     "execution_count": 142,
     "metadata": {},
     "output_type": "execute_result"
    }
   ],
   "source": [
    "str1 = \"Hello, have a good day\"\n",
    "str2 = str1.replace('a','').replace('e','').replace('i','').replace('o','').replace('u','')\n",
    "print(str2)\n",
    "type(str2)"
   ]
  },
  {
   "cell_type": "markdown",
   "id": "d70d17d4",
   "metadata": {},
   "source": [
    "## Write a Python program to remove the nth index character from a non-empty string."
   ]
  },
  {
   "cell_type": "code",
   "execution_count": 310,
   "id": "03513506",
   "metadata": {},
   "outputs": [
    {
     "name": "stdout",
     "output_type": "stream",
     "text": [
      "Enter the index number 4\n",
      "Hell, Have a good day\n"
     ]
    }
   ],
   "source": [
    "str1 = \"Hello, Have a good day\"\n",
    "i = str1[int(input(\"Enter the index number \"))]\n",
    "str2 = str1.replace(i,\"\",1)\n",
    "print(str2)"
   ]
  },
  {
   "cell_type": "markdown",
   "id": "774a2964",
   "metadata": {},
   "source": [
    "## Write a Python program to change a given string to a new string where the first and last characters have been exchanged."
   ]
  },
  {
   "cell_type": "code",
   "execution_count": 180,
   "id": "094aee4b",
   "metadata": {},
   "outputs": [
    {
     "name": "stdout",
     "output_type": "stream",
     "text": [
      "nun and MooS\n"
     ]
    }
   ],
   "source": [
    "str1 = \"Sun and Moon\"\n",
    "str2 = list(str1)\n",
    "str2[-1] =\"S\" \n",
    "str2[0] =\"n\"\n",
    "str3= ''.join(str2)\n",
    "print(str3)\n",
    "\n"
   ]
  },
  {
   "cell_type": "markdown",
   "id": "16968ed8",
   "metadata": {},
   "source": [
    "## Write a Python program to count the occurrences of each word in a given sentence."
   ]
  },
  {
   "cell_type": "code",
   "execution_count": 195,
   "id": "6511250a",
   "metadata": {},
   "outputs": [
    {
     "name": "stdout",
     "output_type": "stream",
     "text": [
      "Enter character - o\n",
      "character count - 2\n"
     ]
    }
   ],
   "source": [
    "str1 = \"Sun and Moon\"\n",
    "str2 = input(\"Enter character - \")\n",
    "print(f\"character count - {str1.count(str2)}\")"
   ]
  },
  {
   "cell_type": "markdown",
   "id": "0e9257ce",
   "metadata": {},
   "source": [
    "## Write a program to find last 10 characters of a string?"
   ]
  },
  {
   "cell_type": "code",
   "execution_count": 200,
   "id": "a9b86a26",
   "metadata": {},
   "outputs": [
    {
     "name": "stdout",
     "output_type": "stream",
     "text": [
      "n and Moon\n"
     ]
    }
   ],
   "source": [
    "str1 = \"Sun and Moon\"\n",
    "print(str1[-10:])"
   ]
  },
  {
   "cell_type": "markdown",
   "id": "641617e8",
   "metadata": {},
   "source": [
    "## WAP to convert a given string to all uppercase if it contains at least 2 uppercase characters in the first 4 characters."
   ]
  },
  {
   "cell_type": "code",
   "execution_count": 204,
   "id": "586f8364",
   "metadata": {},
   "outputs": [
    {
     "name": "stdout",
     "output_type": "stream",
     "text": [
      "Lower Cases count 17 . and Upper Cases count 3\n",
      "WELCOME TO PYTHON WORLD \n"
     ]
    }
   ],
   "source": [
    "str1=\"WeLcome to Python world \"\n",
    "l=0\n",
    "u=0\n",
    "for i in str1:\n",
    "    if i.islower():\n",
    "        l+=1\n",
    "    elif i.isupper():\n",
    "        u+=1\n",
    "print(f\"Lower Cases count {l} and Upper Cases count {u}\")\n",
    "if u>=2:\n",
    "    print(str1.upper())"
   ]
  },
  {
   "cell_type": "markdown",
   "id": "d7e4a1c7",
   "metadata": {},
   "source": [
    "## Write a Python program to remove a newline in Python."
   ]
  },
  {
   "cell_type": "code",
   "execution_count": 209,
   "id": "19e2b46b",
   "metadata": {},
   "outputs": [
    {
     "name": "stdout",
     "output_type": "stream",
     "text": [
      "line 1\n",
      "line 2\n",
      "line3\n",
      "after removing \n",
      " line 1 line 2 line3\n"
     ]
    }
   ],
   "source": [
    "str1 = \"line 1\\nline 2\\nline3\"\n",
    "print(str1)\n",
    "str2 = str1.replace('\\n',' ')\n",
    "print(\"after removing \\n\",str2)"
   ]
  },
  {
   "cell_type": "markdown",
   "id": "c3f96f53",
   "metadata": {},
   "source": [
    "## Write a Python program to swap commas and dots in a string"
   ]
  },
  {
   "cell_type": "code",
   "execution_count": 1,
   "id": "8b9196a6",
   "metadata": {},
   "outputs": [
    {
     "data": {
      "text/plain": [
       "'32,054.23'"
      ]
     },
     "execution_count": 1,
     "metadata": {},
     "output_type": "execute_result"
    }
   ],
   "source": [
    "str1=\"32.054,23\"\n",
    "str2=str1.maketrans(\".,\",\",.\")\n",
    "str1.translate(str2)"
   ]
  },
  {
   "cell_type": "markdown",
   "id": "7a51f21f",
   "metadata": {},
   "source": [
    "## Write a Python program to find the first repeated character in a given string"
   ]
  },
  {
   "cell_type": "code",
   "execution_count": 6,
   "id": "f6a9c1bc",
   "metadata": {},
   "outputs": [
    {
     "name": "stdout",
     "output_type": "stream",
     "text": [
      "n\n"
     ]
    }
   ],
   "source": [
    "str1 = 'Sun and Moon'\n",
    "str2 = str1\n",
    "x = len(str1)\n",
    "count = 0\n",
    "for i in range(0,x):\n",
    "    for j in range(i+2,x):\n",
    "        if(str1[i] == str2[j]):\n",
    "            print(str1[i])\n",
    "            count+=1\n",
    "        elif(count==1):\n",
    "            break\n",
    "            "
   ]
  },
  {
   "cell_type": "markdown",
   "id": "0a271b37",
   "metadata": {},
   "source": [
    "## Write a Python program to find the second most repeated word in a given string"
   ]
  },
  {
   "cell_type": "code",
   "execution_count": 48,
   "id": "f9e5d986",
   "metadata": {},
   "outputs": [
    {
     "name": "stdout",
     "output_type": "stream",
     "text": [
      "y\n"
     ]
    }
   ],
   "source": [
    "str1 = \"Suny and Shiny\"\n",
    "str2 = str1\n",
    "x = len(str1)\n",
    "count = 0\n",
    "for i in range(0,x):\n",
    "    for j in range(i+1,x):\n",
    "        if (str1[i]==str2[j]):\n",
    "            count+=1\n",
    "            if(count==3):\n",
    "                print(str1[i])\n",
    "                "
   ]
  },
  {
   "cell_type": "markdown",
   "id": "d0917729",
   "metadata": {},
   "source": [
    "## Python program to Count Even and Odd numbers in a string"
   ]
  },
  {
   "cell_type": "code",
   "execution_count": 75,
   "id": "06c0f101",
   "metadata": {},
   "outputs": [
    {
     "name": "stdout",
     "output_type": "stream",
     "text": [
      "count of even numbers 4\n",
      "Count of odd numbers 3\n"
     ]
    }
   ],
   "source": [
    "str1 = \"10 11 12 13 14 15 16\"\n",
    "str2= str1.split(\" \")\n",
    "str3 = (int(x) for x in str2)\n",
    "count = 0\n",
    "count1 = 0\n",
    "for i in str3:\n",
    "    if (i%2 ==0):\n",
    "        #print(\"even number\")\n",
    "        count +=1\n",
    "        c = i+i\n",
    "    \n",
    "    else:\n",
    "        #print(\"odd number\")\n",
    "        count1 += 1\n",
    "#print(type(str2))\n",
    "print(\"count of even numbers\",count)\n",
    "print(\"Count of odd numbers\",count1)"
   ]
  },
  {
   "cell_type": "markdown",
   "id": "87a3483b",
   "metadata": {},
   "source": [
    "## How do you check if a string contains only digits?"
   ]
  },
  {
   "cell_type": "code",
   "execution_count": 80,
   "id": "1cae4877",
   "metadata": {},
   "outputs": [
    {
     "name": "stdout",
     "output_type": "stream",
     "text": [
      "Enter your string = 54354\n",
      "String contains only digits\n"
     ]
    }
   ],
   "source": [
    "str1 = input(\"Enter your string = \")\n",
    "\n",
    "if str1.isdigit():\n",
    "    print(\"String contains only digits\")\n",
    "else:\n",
    "    print(\"String contains characters\")"
   ]
  },
  {
   "cell_type": "markdown",
   "id": "762bef63",
   "metadata": {},
   "source": [
    "## How do you remove a given character/word from String?"
   ]
  },
  {
   "cell_type": "code",
   "execution_count": 85,
   "id": "383182cf",
   "metadata": {},
   "outputs": [
    {
     "name": "stdout",
     "output_type": "stream",
     "text": [
      "Enter char to remove = sun\n",
      " and moon\n"
     ]
    }
   ],
   "source": [
    "str1 = \"sun and moon\"\n",
    "input1 = input(\"Enter char to remove = \")\n",
    "str2 =str1.replace(input1,\"\")\n",
    "print(str2)"
   ]
  },
  {
   "cell_type": "markdown",
   "id": "326fc259",
   "metadata": {},
   "source": [
    "## Write a Python program to remove the characters which have odd index values of a given string"
   ]
  },
  {
   "cell_type": "code",
   "execution_count": 98,
   "id": "5d8010eb",
   "metadata": {},
   "outputs": [
    {
     "name": "stdout",
     "output_type": "stream",
     "text": [
      "sn and moon\n"
     ]
    }
   ],
   "source": [
    "str1 = \"sun and moon\"\n",
    "str2 =list(str1)\n",
    "c = 1\n",
    "if (c % 2 != 0):\n",
    "    #a =str1\n",
    "    str2.pop(c)\n",
    "    c +=1\n",
    "    #str3 =\"\".join(str(x) for x in str2)\n",
    "    print(str3)\n",
    "    "
   ]
  },
  {
   "cell_type": "code",
   "execution_count": 123,
   "id": "c9e213f0",
   "metadata": {},
   "outputs": [
    {
     "name": "stdout",
     "output_type": "stream",
     "text": [
      "sn ndmon\n"
     ]
    }
   ],
   "source": [
    "str1 = \"sun and moon\"\n",
    "str2 =list(str1)\n",
    "#c = 0\n",
    "for c in range(0, len(str1)):\n",
    "    try:\n",
    "        if (c % 2 != 0):\n",
    "            str2.pop(c)\n",
    "            c += 1\n",
    "   \n",
    "    except:\n",
    "        pass\n",
    "str3 =\"\".join(str(x) for x in str2)\n",
    "print(str3)"
   ]
  },
  {
   "cell_type": "markdown",
   "id": "1bf5995a",
   "metadata": {},
   "source": [
    "## Write a Python function to reverses a string if its length is a multiple of 5"
   ]
  },
  {
   "cell_type": "code",
   "execution_count": 191,
   "id": "320c8c2b",
   "metadata": {},
   "outputs": [
    {
     "name": "stdout",
     "output_type": "stream",
     "text": [
      "Enter String - qwerty\n",
      "Try string in range of 5\n"
     ]
    }
   ],
   "source": [
    "st1 =input(\"Enter String - \")\n",
    "l = len(st1)\n",
    "a = 0\n",
    "def reng():\n",
    "    try:\n",
    "        if (l%5 == 0):\n",
    "            print(st1[::-1])\n",
    "      \n",
    "        else:    \n",
    "            print(\"Try string in range of 5\")\n",
    "                   \n",
    "    except:\n",
    "        print(\"error\")\n",
    "        \n",
    "reng()"
   ]
  },
  {
   "cell_type": "markdown",
   "id": "66f3cd91",
   "metadata": {},
   "source": [
    "## Write a Python program to format a number with a percentage(0.05 >> 5%)"
   ]
  },
  {
   "cell_type": "code",
   "execution_count": 192,
   "id": "494c4c96",
   "metadata": {},
   "outputs": [
    {
     "name": "stdout",
     "output_type": "stream",
     "text": [
      "5%\n"
     ]
    }
   ],
   "source": [
    "a =0.05\n",
    "print(f\"{a:.0%}\")"
   ]
  },
  {
   "cell_type": "markdown",
   "id": "14f9b1c7",
   "metadata": {},
   "source": [
    "## Write a Python program to reverse words in a string"
   ]
  },
  {
   "cell_type": "code",
   "execution_count": 193,
   "id": "c7bed456",
   "metadata": {},
   "outputs": [
    {
     "name": "stdout",
     "output_type": "stream",
     "text": [
      "nooM dna nuS\n"
     ]
    }
   ],
   "source": [
    "str1 = \"Sun and Moon\"\n",
    "str2 = str1[::-1]\n",
    "print(str2)"
   ]
  },
  {
   "cell_type": "markdown",
   "id": "bde2645e",
   "metadata": {},
   "source": [
    "## Write a Python program to swap cases of a given string"
   ]
  },
  {
   "cell_type": "code",
   "execution_count": 195,
   "id": "e36baf13",
   "metadata": {},
   "outputs": [
    {
     "name": "stdout",
     "output_type": "stream",
     "text": [
      "sUN AND mOON\n"
     ]
    }
   ],
   "source": [
    "str1 = \"Sun and Moon\"\n",
    "print(str1.swapcase())"
   ]
  },
  {
   "cell_type": "markdown",
   "id": "497cdb2e",
   "metadata": {},
   "source": [
    "## Write a Python program to remove spaces from a given string"
   ]
  },
  {
   "cell_type": "code",
   "execution_count": 200,
   "id": "0e31291c",
   "metadata": {},
   "outputs": [
    {
     "name": "stdout",
     "output_type": "stream",
     "text": [
      "SunandMoon\n"
     ]
    }
   ],
   "source": [
    "str1 =\"Sun and Moon\"\n",
    "str2 = str1.replace(\" \",\"\")\n",
    "print(str2)"
   ]
  },
  {
   "cell_type": "markdown",
   "id": "9e558dab",
   "metadata": {},
   "source": [
    "## Write a Python program to remove duplicate characters of a given string"
   ]
  },
  {
   "cell_type": "code",
   "execution_count": 225,
   "id": "ba67543b",
   "metadata": {},
   "outputs": [
    {
     "name": "stdout",
     "output_type": "stream",
     "text": [
      "Suad Mon\n"
     ]
    }
   ],
   "source": [
    "str2 = \"Sun and Moon\"\n",
    "str1 =list(str2)\n",
    "for i in str1:   \n",
    "    if str1.count(i)>1:\n",
    "        str1.remove(i)\n",
    "str3=\"\".join(str(i)for i in str1)  \n",
    "print(str3)"
   ]
  },
  {
   "cell_type": "markdown",
   "id": "c781ea38",
   "metadata": {},
   "source": [
    "## Write a Python Program to find the area of a circle"
   ]
  },
  {
   "cell_type": "code",
   "execution_count": 226,
   "id": "dc7d1d19",
   "metadata": {},
   "outputs": [
    {
     "name": "stdout",
     "output_type": "stream",
     "text": [
      "Enter the radius= 10\n",
      "Area of Circle is=  314.0\n"
     ]
    }
   ],
   "source": [
    "r=int(input(\"Enter the radius= \"))\n",
    "print(\"Area of Circle is= \",3.14*(r*r))"
   ]
  },
  {
   "cell_type": "markdown",
   "id": "b30d9339",
   "metadata": {},
   "source": [
    "## Python Program to find Sum of squares of first n natural numbers"
   ]
  },
  {
   "cell_type": "code",
   "execution_count": 236,
   "id": "9852c611",
   "metadata": {},
   "outputs": [
    {
     "name": "stdout",
     "output_type": "stream",
     "text": [
      "Enter number= 8\n",
      "Square of sum first 8 natural number is 204\n"
     ]
    }
   ],
   "source": [
    "r=int(input(\"Enter number= \"))\n",
    "sum1=0        \n",
    "for i in range(0,r+1):\n",
    "    sum1=sum1+(i*i)\n",
    "print(f\"Square of sum first {r} natural number is\", sum1)"
   ]
  },
  {
   "cell_type": "markdown",
   "id": "fc8d312d",
   "metadata": {},
   "source": [
    "## Python Program to find cube sum of first n natural numbers"
   ]
  },
  {
   "cell_type": "code",
   "execution_count": 29,
   "id": "a1df6bd5",
   "metadata": {},
   "outputs": [
    {
     "name": "stdout",
     "output_type": "stream",
     "text": [
      "Enter number= 3\n",
      "Cube sum of first 3 natural number is 36\n"
     ]
    }
   ],
   "source": [
    "r1=int(input(\"Enter number= \"))\n",
    "sum1=0        \n",
    "for i in range(0,r1+1):\n",
    "    sum1=sum1+(i*i*i)\n",
    "print(f\"Cube sum of first {r1} natural number is\", sum1)"
   ]
  },
  {
   "cell_type": "markdown",
   "id": "a7910d6f",
   "metadata": {},
   "source": [
    "## Python Program to find simple interest and compound interest"
   ]
  },
  {
   "cell_type": "code",
   "execution_count": 254,
   "id": "aa2bbf65",
   "metadata": {},
   "outputs": [
    {
     "name": "stdout",
     "output_type": "stream",
     "text": [
      "Press 1 for simple and 2 for Comound Interest1\n",
      "Enter your loan amount - 1000\n",
      "Enter years - 1\n",
      "Enter Interest Rate - 10\n",
      "EMI = 100.0\n"
     ]
    }
   ],
   "source": [
    "def simple():\n",
    "    p = float(input(\"Enter your loan amount - \"))\n",
    "    y = int(input(\"Enter years - \"))\n",
    "    r = float(input(\"Enter Interest Rate - \"))\n",
    "    d = (p*y*r)/100\n",
    "    print(\"EMI =\",d)\n",
    "def compound():\n",
    "    p = float(input(\"Enter your loan amount - \"))\n",
    "    y = int(input(\"Enter years - \"))\n",
    "    #n = int(input(\"Enter number of compounding periods per year. \"))\n",
    "    r = float(input(\"Enter Interest Rate - \"))\n",
    "    d1=   p * (pow((1 + r / 100), y))\n",
    "    print(\"compound interest =\",d1)\n",
    "a =int(input(\"Press 1 for simple and 2 for Comound Interest\"))\n",
    "if (a == 1):\n",
    "    simple()\n",
    "elif(a == 2):\n",
    "    compound()\n",
    "else:\n",
    "    print(\"Enter Right Value\")"
   ]
  },
  {
   "cell_type": "markdown",
   "id": "18636a27",
   "metadata": {},
   "source": [
    "## Python program to check whether a number is Prime or not"
   ]
  },
  {
   "cell_type": "code",
   "execution_count": 24,
   "id": "0bf4859d",
   "metadata": {},
   "outputs": [
    {
     "name": "stdout",
     "output_type": "stream",
     "text": [
      "Enter number - 6565\n",
      "Number is Not Prime\n",
      "5 times 1313 is 6565\n"
     ]
    }
   ],
   "source": [
    "a = int(input(\"Enter number - \"))\n",
    "if (a>1):\n",
    "    for i in range(2,int(a/2)+1):\n",
    "        if(a % i) == 0:\n",
    "            print(\"Number is Not Prime\")\n",
    "            print(i,\"times\",a//i,\"is\",a)\n",
    "            break\n",
    "            \n",
    "    else:\n",
    "        print(\"Number is Prime\")\n",
    "            \n",
    "            \n",
    "            \n",
    "            \n",
    "else:\n",
    "    print(\"Number is Not Prime\")"
   ]
  },
  {
   "cell_type": "code",
   "execution_count": null,
   "id": "579c8cd2",
   "metadata": {},
   "outputs": [],
   "source": []
  },
  {
   "cell_type": "code",
   "execution_count": null,
   "id": "36bd5f2f",
   "metadata": {},
   "outputs": [],
   "source": []
  }
 ],
 "metadata": {
  "kernelspec": {
   "display_name": "Python 3 (ipykernel)",
   "language": "python",
   "name": "python3"
  },
  "language_info": {
   "codemirror_mode": {
    "name": "ipython",
    "version": 3
   },
   "file_extension": ".py",
   "mimetype": "text/x-python",
   "name": "python",
   "nbconvert_exporter": "python",
   "pygments_lexer": "ipython3",
   "version": "3.8.5"
  }
 },
 "nbformat": 4,
 "nbformat_minor": 5
}
