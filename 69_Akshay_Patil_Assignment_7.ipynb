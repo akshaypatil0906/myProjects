{
 "cells": [
  {
   "cell_type": "markdown",
   "id": "8f22fdf8",
   "metadata": {},
   "source": [
    "## 1. Write a Python program to read an entire text file"
   ]
  },
  {
   "cell_type": "code",
   "execution_count": 8,
   "id": "00628c33",
   "metadata": {},
   "outputs": [],
   "source": [
    "with open(\"machine_learning.txt\",\"w\") as f:\n",
    "    f.write(\"\"\"Machine learning (ML) \\n is a type of artificial intelligence (AI)\"\"\")"
   ]
  },
  {
   "cell_type": "code",
   "execution_count": 10,
   "id": "841a1b20",
   "metadata": {},
   "outputs": [
    {
     "name": "stdout",
     "output_type": "stream",
     "text": [
      "Machine learning (ML) \n",
      "is a type of artificial intelligence (AI)\n"
     ]
    }
   ],
   "source": [
    "f = open(\"machine_learning.txt\",\"r\")\n",
    "print(f.read())"
   ]
  },
  {
   "cell_type": "markdown",
   "id": "f1ca04d3",
   "metadata": {},
   "source": [
    "## 2. Write a Python program to read the first n lines of a file"
   ]
  },
  {
   "cell_type": "code",
   "execution_count": 19,
   "id": "b28f8c1f",
   "metadata": {},
   "outputs": [
    {
     "name": "stdout",
     "output_type": "stream",
     "text": [
      "Enter line Numbers 2\n",
      "Machine learning (ML) \n",
      "\n",
      "is a type of artificial intelligence (AI)\n"
     ]
    }
   ],
   "source": [
    "def readn(n):\n",
    "    f = open(\"machine_learning.txt\",\"r\") \n",
    "    for i in range(0,n):\n",
    "        print(f.readline())    \n",
    "i = int(input(\"Enter line Numbers \"))\n",
    "readn(i)"
   ]
  },
  {
   "cell_type": "markdown",
   "id": "4a543e53",
   "metadata": {},
   "source": [
    "## 3. Write a Python program to append text to a file and display the text"
   ]
  },
  {
   "cell_type": "code",
   "execution_count": 24,
   "id": "58880ee9",
   "metadata": {},
   "outputs": [
    {
     "name": "stdout",
     "output_type": "stream",
     "text": [
      "Machine learning (ML) \n",
      "is a type of artificial intelligence (AI)\n",
      "Line number 3\n",
      "Line number 3\n",
      "Line number 3\n",
      "Line number 3\n",
      "Line number 7\n"
     ]
    }
   ],
   "source": [
    "f = open(\"machine_learning.txt\",\"a\")\n",
    "f.write(\"\\nLine number 7\")\n",
    "f.close\n",
    "f = open(\"machine_learning.txt\",\"r\")\n",
    "print(f.read())"
   ]
  },
  {
   "cell_type": "markdown",
   "id": "73cde5c7",
   "metadata": {},
   "source": [
    "## 4. Write a Python program to read the last n lines of a file"
   ]
  },
  {
   "cell_type": "code",
   "execution_count": 52,
   "id": "5d03a296",
   "metadata": {},
   "outputs": [
    {
     "name": "stdout",
     "output_type": "stream",
     "text": [
      "Enter line Numbers 2\n",
      "Line number 3\n",
      "\n",
      "Line number 7\n"
     ]
    }
   ],
   "source": [
    "def readn(n):\n",
    "    f = open(\"machine_learning.txt\",\"r\") \n",
    "    for i in (f.readlines() [-n:]):\n",
    "        print(i)\n",
    "i = int(input(\"Enter line Numbers \"))\n",
    "readn(i)"
   ]
  },
  {
   "cell_type": "markdown",
   "id": "588f2f14",
   "metadata": {},
   "source": [
    "## 5. Write a Python program to read a file line by line and store it into a list"
   ]
  },
  {
   "cell_type": "code",
   "execution_count": 65,
   "id": "b0b6daa8",
   "metadata": {},
   "outputs": [
    {
     "name": "stdout",
     "output_type": "stream",
     "text": [
      "['Machine learning (ML) \\n', 'is a type of artificial intelligence (AI)\\n', 'Line number 3\\n', 'Line number 3\\n', 'Line number 3\\n', 'Line number 3\\n', 'Line number 7']\n"
     ]
    }
   ],
   "source": [
    "def readn():\n",
    "    f = open(\"machine_learning.txt\",\"r\") \n",
    "    for i in (f.readlines()):\n",
    "        l1.append(i)\n",
    "l1 = []\n",
    "#i = int(input(\"Enter line Numbers \"))\n",
    "readn()\n",
    "print(l1)"
   ]
  },
  {
   "cell_type": "markdown",
   "id": "67b08dd4",
   "metadata": {},
   "source": [
    "## 6. Write a Python program to count the number of lines in a text file"
   ]
  },
  {
   "cell_type": "code",
   "execution_count": 68,
   "id": "19c85449",
   "metadata": {},
   "outputs": [
    {
     "name": "stdout",
     "output_type": "stream",
     "text": [
      "count of lines =  7\n"
     ]
    }
   ],
   "source": [
    "def readn():\n",
    "    c = 0\n",
    "    f = open(\"machine_learning.txt\",\"r\") \n",
    "    for i in (f.readlines()):\n",
    "        c+=1\n",
    "    print(\"count of lines = \",c)\n",
    "    \n",
    "readn()"
   ]
  },
  {
   "cell_type": "markdown",
   "id": "b8ee834f",
   "metadata": {},
   "source": [
    "## 7. Write a Python program to count the frequency of words in a file"
   ]
  },
  {
   "cell_type": "code",
   "execution_count": 95,
   "id": "4ae11178",
   "metadata": {},
   "outputs": [
    {
     "name": "stdout",
     "output_type": "stream",
     "text": [
      "Enter Word m\n",
      "count of m is 5\n"
     ]
    }
   ],
   "source": [
    "def readn():\n",
    "    inp = input(\"Enter Word \")   \n",
    "    c = 0\n",
    "    f = open(\"machine_learning.txt\",\"r\") \n",
    "    f1 = f.read()\n",
    "    for i in (f1):\n",
    "        a = f1.count(inp)\n",
    "        #a+=a\n",
    "    print(f\"count of {inp} is {a}\")\n",
    "readn()"
   ]
  },
  {
   "cell_type": "markdown",
   "id": "f6c2f8a1",
   "metadata": {},
   "source": [
    "## 8. Write a Python program to copy the contents of a file to another file"
   ]
  },
  {
   "cell_type": "code",
   "execution_count": 99,
   "id": "7c5a81d6",
   "metadata": {},
   "outputs": [
    {
     "name": "stdout",
     "output_type": "stream",
     "text": [
      "Machine learning (ML) \n",
      "is a type of artificial intelligence (AI)\n",
      "Line number 3\n",
      "Line number 3\n",
      "Line number 3\n",
      "Line number 3\n",
      "Line number 7\n"
     ]
    }
   ],
   "source": [
    "def readn():\n",
    "    f = open(\"machine_learning.txt\",\"r\")\n",
    "    t = f.read()\n",
    "    f1 = open(\"deep_learning.txt\",\"w\")\n",
    "    f1.write(t)\n",
    "    f1.close()\n",
    "def readc():\n",
    "    f1 = open(\"deep_learning.txt\",\"r\")\n",
    "    print(f1.read())\n",
    "readn()\n",
    "readc()"
   ]
  },
  {
   "cell_type": "markdown",
   "id": "6878311b",
   "metadata": {},
   "source": [
    "## 9. Write a Python script to display the various Date Time formats - Go to the editor"
   ]
  },
  {
   "cell_type": "markdown",
   "id": "103bfb79",
   "metadata": {},
   "source": [
    "### a) Current date and time"
   ]
  },
  {
   "cell_type": "code",
   "execution_count": 101,
   "id": "36e2d2c5",
   "metadata": {},
   "outputs": [
    {
     "name": "stdout",
     "output_type": "stream",
     "text": [
      "2022-08-22 10:31:52.505840\n"
     ]
    }
   ],
   "source": [
    "import datetime\n",
    "date = datetime.datetime.now()\n",
    "print(date)"
   ]
  },
  {
   "cell_type": "markdown",
   "id": "5193e355",
   "metadata": {},
   "source": [
    "### b) Current year"
   ]
  },
  {
   "cell_type": "code",
   "execution_count": 103,
   "id": "42e1679c",
   "metadata": {},
   "outputs": [
    {
     "data": {
      "text/plain": [
       "2022"
      ]
     },
     "execution_count": 103,
     "metadata": {},
     "output_type": "execute_result"
    }
   ],
   "source": [
    "d = date.year\n",
    "d"
   ]
  },
  {
   "cell_type": "markdown",
   "id": "c397224f",
   "metadata": {},
   "source": [
    "### c) Month of year"
   ]
  },
  {
   "cell_type": "code",
   "execution_count": 104,
   "id": "ab9293d1",
   "metadata": {},
   "outputs": [
    {
     "data": {
      "text/plain": [
       "8"
      ]
     },
     "execution_count": 104,
     "metadata": {},
     "output_type": "execute_result"
    }
   ],
   "source": [
    "d = date.month\n",
    "d"
   ]
  },
  {
   "cell_type": "markdown",
   "id": "6533006b",
   "metadata": {},
   "source": [
    "### d) Week number of the year"
   ]
  },
  {
   "cell_type": "code",
   "execution_count": 112,
   "id": "cce08bec",
   "metadata": {},
   "outputs": [
    {
     "name": "stdout",
     "output_type": "stream",
     "text": [
      "34\n"
     ]
    }
   ],
   "source": [
    "d = date.isocalendar()\n",
    "print(d[1])"
   ]
  },
  {
   "cell_type": "markdown",
   "id": "d4e295d0",
   "metadata": {},
   "source": [
    "### e) Weekday of the week"
   ]
  },
  {
   "cell_type": "code",
   "execution_count": 131,
   "id": "8e7981b2",
   "metadata": {},
   "outputs": [
    {
     "name": "stdout",
     "output_type": "stream",
     "text": [
      "Monday\n"
     ]
    }
   ],
   "source": [
    "d = date.strftime(\"%A\")\n",
    "print(d)"
   ]
  },
  {
   "cell_type": "markdown",
   "id": "14f7c066",
   "metadata": {},
   "source": [
    "### f) Day of year"
   ]
  },
  {
   "cell_type": "code",
   "execution_count": 118,
   "id": "727d4c70",
   "metadata": {},
   "outputs": [
    {
     "name": "stdout",
     "output_type": "stream",
     "text": [
      "234\n"
     ]
    }
   ],
   "source": [
    "d = date.strftime(\"%j\")\n",
    "print(d)"
   ]
  },
  {
   "cell_type": "markdown",
   "id": "32cd7a46",
   "metadata": {},
   "source": [
    "### g) Day of the month"
   ]
  },
  {
   "cell_type": "code",
   "execution_count": 120,
   "id": "84048648",
   "metadata": {},
   "outputs": [
    {
     "name": "stdout",
     "output_type": "stream",
     "text": [
      "22\n"
     ]
    }
   ],
   "source": [
    "d = date.strftime(\"%d\")\n",
    "print(d)"
   ]
  },
  {
   "cell_type": "markdown",
   "id": "b04a5123",
   "metadata": {},
   "source": [
    "### h) Day of week"
   ]
  },
  {
   "cell_type": "code",
   "execution_count": 121,
   "id": "6500b652",
   "metadata": {},
   "outputs": [
    {
     "name": "stdout",
     "output_type": "stream",
     "text": [
      "1\n"
     ]
    }
   ],
   "source": [
    "d = date.isocalendar()\n",
    "print(d[2])"
   ]
  },
  {
   "cell_type": "markdown",
   "id": "8f067ef2",
   "metadata": {},
   "source": [
    "## 10. Write a Python program to determine whether a given year is a leap year"
   ]
  },
  {
   "cell_type": "code",
   "execution_count": 143,
   "id": "a12569e9",
   "metadata": {},
   "outputs": [
    {
     "name": "stdout",
     "output_type": "stream",
     "text": [
      "Enter Year 2016\n",
      "2016 is Leap Year\n"
     ]
    }
   ],
   "source": [
    "inp = int(input(\"Enter Year \"))\n",
    "if (inp % 400 == 0) and (inp % 100 == 0):\n",
    "    print(f\"{inp} is Leap Year\")\n",
    "elif (inp % 4 ==0) and (inp % 100 != 0):\n",
    "    print(f\"{inp} is Leap Year\")\n",
    "else:\n",
    "    print(f\"{inp} is not Leap Year\")"
   ]
  },
  {
   "cell_type": "markdown",
   "id": "56c836c5",
   "metadata": {},
   "source": [
    "## 11. Write a Python program to convert a string to datetime. Go to the editor\n",
    "\n",
    "○ Sample String : Jan 1 2014 2:43PM\n",
    "○ Expected Output : 2014-07-01 14:43:00"
   ]
  },
  {
   "cell_type": "code",
   "execution_count": 155,
   "id": "9e84f33a",
   "metadata": {},
   "outputs": [
    {
     "name": "stdout",
     "output_type": "stream",
     "text": [
      "2014-01-01 14:43:00\n"
     ]
    }
   ],
   "source": [
    "d = \"Jan 1 2014 2:43PM\"\n",
    "format1 = \"%b %d %Y %I:%M%p\"\n",
    "c = date.strptime(d,format1)\n",
    "print(c)"
   ]
  },
  {
   "cell_type": "markdown",
   "id": "2514f87b",
   "metadata": {},
   "source": [
    "## 12. Write a Python program to subtract five days from current date"
   ]
  },
  {
   "cell_type": "code",
   "execution_count": 160,
   "id": "5bc03d35",
   "metadata": {},
   "outputs": [
    {
     "name": "stdout",
     "output_type": "stream",
     "text": [
      "2022-08-22 10:31:52.505840\n",
      "2022-08-17 10:31:52.505840\n"
     ]
    }
   ],
   "source": [
    "from datetime import timedelta\n",
    "d = date - timedelta(5)\n",
    "print(date)\n",
    "print(d)"
   ]
  },
  {
   "cell_type": "markdown",
   "id": "c4b8f564",
   "metadata": {},
   "source": [
    "## 13. Write a Python program to print yesterday, today, tomorrow"
   ]
  },
  {
   "cell_type": "code",
   "execution_count": 166,
   "id": "27bd46dc",
   "metadata": {},
   "outputs": [
    {
     "name": "stdout",
     "output_type": "stream",
     "text": [
      "today  2022-08-22\n",
      "yesterday  2022-08-21\n",
      "tomarrow  2022-08-23\n"
     ]
    }
   ],
   "source": [
    "print(\"today \",date.date())\n",
    "d = date.date() - timedelta(1)\n",
    "d1 = date.date() - timedelta(-1)\n",
    "print(\"yesterday \",d)\n",
    "print(\"tomarrow \",d1)"
   ]
  },
  {
   "cell_type": "markdown",
   "id": "2c203b52",
   "metadata": {},
   "source": [
    "## 14. Write a Python program to print next 5 days starting from today"
   ]
  },
  {
   "cell_type": "code",
   "execution_count": 168,
   "id": "6995a94d",
   "metadata": {},
   "outputs": [
    {
     "name": "stdout",
     "output_type": "stream",
     "text": [
      "Today  2022-08-22 10:31:52.505840\n",
      "Tomarrow  2022-08-27 10:31:52.505840\n"
     ]
    }
   ],
   "source": [
    "from datetime import timedelta\n",
    "d = date + timedelta(5)\n",
    "print(\"Today \",date)\n",
    "print(\"Tomarrow \",d)"
   ]
  },
  {
   "cell_type": "markdown",
   "id": "6bb6239f",
   "metadata": {},
   "source": [
    "## 15. Write a Python program to drop microseconds from DateTime"
   ]
  },
  {
   "cell_type": "code",
   "execution_count": 172,
   "id": "be423792",
   "metadata": {},
   "outputs": [
    {
     "name": "stdout",
     "output_type": "stream",
     "text": [
      "2022-08-22 10:31:52.505840\n",
      "2022-Aug-22 10:31:52\n"
     ]
    }
   ],
   "source": [
    "print(date)\n",
    "print(date.strftime(\"%Y-%b-%d %I:%M:%S\"))"
   ]
  },
  {
   "cell_type": "markdown",
   "id": "3f6b04e0",
   "metadata": {},
   "source": [
    "## 16. Write a Python program to find the date of the first Monday of a given week"
   ]
  },
  {
   "cell_type": "code",
   "execution_count": 183,
   "id": "61bdd55c",
   "metadata": {},
   "outputs": [
    {
     "name": "stdout",
     "output_type": "stream",
     "text": [
      "Mon Aug 15 00:00:00 2022\n"
     ]
    }
   ],
   "source": [
    "import time\n",
    "print(time.asctime(time.strptime('2022 33 1', '%Y %W %w')))"
   ]
  },
  {
   "cell_type": "markdown",
   "id": "c5656675",
   "metadata": {},
   "source": [
    "## 17. Write a Python program to select all the Sundays of a specified year"
   ]
  },
  {
   "cell_type": "code",
   "execution_count": 205,
   "id": "673402b5",
   "metadata": {},
   "outputs": [
    {
     "name": "stdout",
     "output_type": "stream",
     "text": [
      "2022-01-02\n",
      "2022-01-09\n",
      "2022-01-16\n",
      "2022-01-23\n",
      "2022-01-30\n",
      "2022-02-06\n",
      "2022-02-13\n",
      "2022-02-20\n",
      "2022-02-27\n",
      "2022-03-06\n",
      "2022-03-13\n",
      "2022-03-20\n",
      "2022-03-27\n",
      "2022-04-03\n",
      "2022-04-10\n",
      "2022-04-17\n",
      "2022-04-24\n",
      "2022-05-01\n",
      "2022-05-08\n",
      "2022-05-15\n",
      "2022-05-22\n",
      "2022-05-29\n",
      "2022-06-05\n",
      "2022-06-12\n",
      "2022-06-19\n",
      "2022-06-26\n",
      "2022-07-03\n",
      "2022-07-10\n",
      "2022-07-17\n",
      "2022-07-24\n",
      "2022-07-31\n",
      "2022-08-07\n",
      "2022-08-14\n",
      "2022-08-21\n",
      "2022-08-28\n",
      "2022-09-04\n",
      "2022-09-11\n",
      "2022-09-18\n",
      "2022-09-25\n",
      "2022-10-02\n",
      "2022-10-09\n",
      "2022-10-16\n",
      "2022-10-23\n",
      "2022-10-30\n",
      "2022-11-06\n",
      "2022-11-13\n",
      "2022-11-20\n",
      "2022-11-27\n",
      "2022-12-04\n",
      "2022-12-11\n",
      "2022-12-18\n",
      "2022-12-25\n"
     ]
    }
   ],
   "source": [
    "from datetime import date, timedelta\n",
    "\n",
    "def all_sundays(year):\n",
    "        dt = date(year, 1, 1)\n",
    "    \n",
    "        dt += timedelta(days = 6 - dt.weekday())  \n",
    "        while dt.year == year:\n",
    "            yield dt\n",
    "            dt += timedelta(days = 7)\n",
    "            \n",
    "for s in all_sundays(2022):\n",
    "    print(s)\n",
    "   "
   ]
  },
  {
   "cell_type": "markdown",
   "id": "6c91575c",
   "metadata": {},
   "source": [
    "## 18. Write a Python program to create a file and write some text and rename the file name"
   ]
  },
  {
   "cell_type": "code",
   "execution_count": 198,
   "id": "cd5f1267",
   "metadata": {},
   "outputs": [],
   "source": [
    "import os\n",
    "with open (\"Data Science.txt\",\"w\") as f:\n",
    "    f.write(\"Welcome to Data Science\")\n",
    "os.rename(\"Data Science.txt\",\"Data__Science.txt\")\n",
    "#os.getcwd()"
   ]
  },
  {
   "cell_type": "code",
   "execution_count": 199,
   "id": "a03fb0d7",
   "metadata": {},
   "outputs": [
    {
     "data": {
      "text/plain": [
       "'Welcome to Data Science'"
      ]
     },
     "execution_count": 199,
     "metadata": {},
     "output_type": "execute_result"
    }
   ],
   "source": [
    "f = open(\"Data__Science.txt\",\"r\")\n",
    "f.read()"
   ]
  },
  {
   "cell_type": "markdown",
   "id": "185f706a",
   "metadata": {},
   "source": [
    "## 19. What are different methods available in the OS module for creating a directory?"
   ]
  },
  {
   "cell_type": "raw",
   "id": "fe8cbdf6",
   "metadata": {},
   "source": [
    "import os\n",
    "os.mkdir()\n",
    "os.makedirs()"
   ]
  },
  {
   "cell_type": "markdown",
   "id": "f903192b",
   "metadata": {},
   "source": [
    "## 20. Explain os.listdir() method."
   ]
  },
  {
   "cell_type": "raw",
   "id": "fcef0482",
   "metadata": {},
   "source": [
    "listdir() method in python is used to get the list of all files and directories in the specified directory. If we don't specify any directory, then list of files and directories in the current working directory will be returned.\n",
    "Syntax-\n",
    "os.listdir()"
   ]
  },
  {
   "cell_type": "code",
   "execution_count": 202,
   "id": "002ed754",
   "metadata": {},
   "outputs": [
    {
     "data": {
      "text/plain": [
       "['.ipynb_checkpoints',\n",
       " '1_Vg2WLNOW_XKe4WjDt4kNYw.png',\n",
       " '69_Akshay_Patil_Assignment_05.ipynb',\n",
       " '69_Akshay_Patil_Assignment_1.ipynb',\n",
       " '69_Akshay_Patil_assignment_2 - Jupyter Notebook.pdf',\n",
       " '69_Akshay_Patil_assignment_2.ipynb',\n",
       " '69_Akshay_Patil_assignment_2.pdf',\n",
       " '69_Akshay_Patil_Assignment_3.ipynb',\n",
       " '69_Akshay_Patil_Assignment_3.pdf',\n",
       " '69_Akshay_Patil_Assignment_4.ipynb',\n",
       " '69_Akshay_Patil_Assignment_4.pdf',\n",
       " '69_Akshay_Patil_Assignment_5.pdf',\n",
       " '69_Akshay_Patil_Assignment_6.ipynb',\n",
       " '69_Akshay_Patil_Assignment_6.pdf',\n",
       " '69_Akshay_Patil_Assignment_7.ipynb',\n",
       " 'Data__Science.txt',\n",
       " 'deep_learning.txt',\n",
       " 'demo.txt',\n",
       " 'demo1.txt',\n",
       " 'File.txt',\n",
       " 'machine_learning.txt',\n",
       " 'TATAELXSI (NSE) 8641.75 - Kite Chart.html',\n",
       " 'TATAELXSI (NSE) 8641.75 - Kite Chart_files',\n",
       " 'TATAPOWER (NSE) 233.3 - Kite Chart.html',\n",
       " 'TATAPOWER (NSE) 233.3 - Kite Chart_files',\n",
       " 'Untitled.ipynb',\n",
       " 'Untitled1.ipynb',\n",
       " 'Untitled2.ipynb',\n",
       " 'Untitled3.ipynb',\n",
       " 'Untitled4.ipynb',\n",
       " 'Untitled5.ipynb']"
      ]
     },
     "execution_count": 202,
     "metadata": {},
     "output_type": "execute_result"
    }
   ],
   "source": [
    "os.listdir()"
   ]
  },
  {
   "cell_type": "markdown",
   "id": "ccfe2549",
   "metadata": {},
   "source": [
    "## 21. What are different methods for removing directories and files in Python?"
   ]
  },
  {
   "cell_type": "raw",
   "id": "34f71ed1",
   "metadata": {},
   "source": [
    "Various methods provided by Python are –\n",
    "\n",
    "Using os.remove()\n",
    "Using os.rmdir()\n",
    "Using shutil.rmtree()\n",
    "Using pathlib.Path(empty_dir_path).rmdir()"
   ]
  },
  {
   "cell_type": "markdown",
   "id": "0d096368",
   "metadata": {},
   "source": [
    "## 22. What are exceptions in Python?"
   ]
  },
  {
   "cell_type": "raw",
   "id": "a0cd2cdb",
   "metadata": {},
   "source": [
    "An Exception is an Event, which occurs during the execution of the program. It is also known as a run time error. When that error occurs, Python generates an exception during the execution and that can be handled, which avoids your program to interrupt."
   ]
  },
  {
   "cell_type": "markdown",
   "id": "b268e63b",
   "metadata": {},
   "source": [
    "## 23. What are Built-in exceptions?"
   ]
  },
  {
   "cell_type": "raw",
   "id": "6917de95",
   "metadata": {},
   "source": [
    "ArithmeticError Raised when an error occurs in numeric calculations\n",
    "AssertionError\tRaised when an assert statement fails\n",
    "AttributeError\tRaised when attribute reference or assignment fails\n",
    "Exception\t    Base class for all exceptions\n",
    "EOFError\t    Raised when the input() method hits an \"end of file\" condition (EOF)\n",
    "FloatingPointError\tRaised when a floating point calculation fails\n",
    "GeneratorExit\tRaised when a generator is closed (with the close() method)\n",
    "ImportError\t    Raised when an imported module does not exist\n",
    "IndentationError\tRaised when indendation is not correct\n",
    "IndexError\t    Raised when an index of a sequence does not exist\n",
    "KeyError\t    Raised when a key does not exist in a dictionary\n",
    "KeyboardInterrupt\tRaised when the user presses Ctrl+c, Ctrl+z or Delete\n",
    "LookupError\t    Raised when errors raised cant be found\n",
    "MemoryError\t    Raised when a program runs out of memory\n",
    "NameError\t    Raised when a variable does not exist\n",
    "NotImplementedError\tRaised when an abstract method requires an inherited class to override the method\n",
    "OSError\t        Raised when a system related operation causes an error\n",
    "OverflowError\tRaised when the result of a numeric calculation is too large\n",
    "ReferenceError\tRaised when a weak reference object does not exist\n",
    "RuntimeError\tRaised when an error occurs that do not belong to any specific expections\n",
    "StopIteration\tRaised when the next() method of an iterator has no further values\n",
    "SyntaxError\t    Raised when a syntax error occurs\n",
    "TabError\t    Raised when indentation consists of tabs or spaces\n",
    "SystemError\t    Raised when a system error occurs\n",
    "SystemExit\t    Raised when the sys.exit() function is called\n",
    "TypeError\t    Raised when two different types are combined\n",
    "UnboundLocalError\tRaised when a local variable is referenced before assignment\n",
    "UnicodeError\tRaised when a unicode problem occurs\n",
    "UnicodeEncodeError\tRaised when a unicode encoding problem occurs\n",
    "UnicodeDecodeError\tRaised when a unicode decoding problem occurs\n",
    "UnicodeTranslateError\tRaised when a unicode translation problem occurs\n",
    "ValueError\t    Raised when there is a wrong value in a specified data type\n",
    "ZeroDivisionError\tRaised when the second operator in a division is zero"
   ]
  },
  {
   "cell_type": "markdown",
   "id": "859e9c6d",
   "metadata": {},
   "source": [
    "## 24. What are User-defined Exceptions?"
   ]
  },
  {
   "cell_type": "raw",
   "id": "a911b28f",
   "metadata": {},
   "source": [
    "User defined exceptions in python are created by programmers to enforce constraints on the values which the variables in the program can take. Python has many built in exceptions which are raised when there is some error in the program."
   ]
  },
  {
   "cell_type": "markdown",
   "id": "6eac4560",
   "metadata": {},
   "source": [
    "## 25. When would you not use try-except?"
   ]
  },
  {
   "cell_type": "raw",
   "id": "feac7802",
   "metadata": {},
   "source": [
    "A try block allows you to handle an expected error. The except block should\n",
    "only catch exceptions you are prepared to handle.\n",
    "If you handle an unexpected error, your code may do the wrong thing and hide\n",
    "bugs."
   ]
  },
  {
   "cell_type": "markdown",
   "id": "16432988",
   "metadata": {},
   "source": [
    "## 26. Can try-except catch the error if a file can’t be opened?"
   ]
  },
  {
   "cell_type": "raw",
   "id": "92e8e725",
   "metadata": {},
   "source": [
    "try-except clause is a standard python combination and if you'd open docs\n",
    "you'll get the idea that you can't\n",
    "open file with try and except... You can't open a file with try... except . I\n",
    "think what's being asked is to open the file\n",
    "like you usually would and catch exceptions\n",
    "if they occur using try..."
   ]
  }
 ],
 "metadata": {
  "kernelspec": {
   "display_name": "Python 3 (ipykernel)",
   "language": "python",
   "name": "python3"
  },
  "language_info": {
   "codemirror_mode": {
    "name": "ipython",
    "version": 3
   },
   "file_extension": ".py",
   "mimetype": "text/x-python",
   "name": "python",
   "nbconvert_exporter": "python",
   "pygments_lexer": "ipython3",
   "version": "3.8.5"
  }
 },
 "nbformat": 4,
 "nbformat_minor": 5
}
