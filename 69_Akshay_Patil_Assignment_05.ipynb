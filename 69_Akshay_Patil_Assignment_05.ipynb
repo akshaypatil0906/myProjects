{
 "cells": [
  {
   "cell_type": "markdown",
   "id": "a44bfde1",
   "metadata": {},
   "source": [
    "## 1. Python Program for Find largest prime factor of a number"
   ]
  },
  {
   "cell_type": "code",
   "execution_count": 26,
   "id": "50432f1e",
   "metadata": {},
   "outputs": [
    {
     "name": "stdout",
     "output_type": "stream",
     "text": [
      "Enter Number - 400\n",
      "5\n"
     ]
    }
   ],
   "source": [
    "import math\n",
    "def prime (n):\n",
    "    maxPrime = -1\n",
    "    while n % 2 == 0:\n",
    "        maxPrime = 2\n",
    "        n >>= 1     # equivalent to n /= 2\n",
    "    for i in range(3, int(math.sqrt(n)) + 1, 2):\n",
    "        while n % i == 0:\n",
    "            maxPrime = i\n",
    "            n = n / i\n",
    "    if n > 2:\n",
    "        maxPrime = n    \n",
    "    return int(maxPrime)\n",
    "  \n",
    "n = int(input(\"Enter Number - \"))\n",
    "print(prime(n))"
   ]
  },
  {
   "cell_type": "markdown",
   "id": "64656638",
   "metadata": {},
   "source": [
    "## 2. Python Program for Product of unique prime factors of a number"
   ]
  },
  {
   "cell_type": "code",
   "execution_count": 25,
   "id": "02e768db",
   "metadata": {},
   "outputs": [
    {
     "name": "stdout",
     "output_type": "stream",
     "text": [
      "Enter Number - 52\n",
      "26\n"
     ]
    }
   ],
   "source": [
    "def productPrimeFactors(n):\n",
    "    product = 1\n",
    "      \n",
    "    for i in range(2, n+1):\n",
    "        if (n % i == 0):\n",
    "            isPrime = 1\n",
    "              \n",
    "            for j in range(2, int(i/2 + 1)):\n",
    "                if (i % j == 0):\n",
    "                    isPrime = 0\n",
    "                    break\n",
    "\n",
    "            if (isPrime):\n",
    "                product = product * i\n",
    "                #print(product)  \n",
    "    return product  \n",
    "n = int(input(\"Enter Number - \"))\n",
    "print (productPrimeFactors(n))"
   ]
  },
  {
   "cell_type": "markdown",
   "id": "c43f321e",
   "metadata": {},
   "source": [
    "## 3. Python Program to find Factorial of Number"
   ]
  },
  {
   "cell_type": "code",
   "execution_count": 41,
   "id": "0aea45ec",
   "metadata": {},
   "outputs": [
    {
     "name": "stdout",
     "output_type": "stream",
     "text": [
      "1\n",
      "2\n",
      "6\n",
      "24\n",
      "120\n"
     ]
    }
   ],
   "source": [
    "def fact(n):\n",
    "    f = 1\n",
    "    for i in range(1,n+1):\n",
    "        f = f * i\n",
    "        print(f)\n",
    "fact(5)"
   ]
  },
  {
   "cell_type": "code",
   "execution_count": 45,
   "id": "09246583",
   "metadata": {},
   "outputs": [
    {
     "name": "stdout",
     "output_type": "stream",
     "text": [
      "120\n"
     ]
    }
   ],
   "source": [
    "import math\n",
    "def fact(n):\n",
    "    a = math.factorial(n)\n",
    "    print(a)\n",
    "fact(5)"
   ]
  },
  {
   "cell_type": "code",
   "execution_count": 50,
   "id": "d7f3ba32",
   "metadata": {},
   "outputs": [
    {
     "data": {
      "text/plain": [
       "120"
      ]
     },
     "execution_count": 50,
     "metadata": {},
     "output_type": "execute_result"
    }
   ],
   "source": [
    "def fact(n):\n",
    "    if n==1:\n",
    "        return n\n",
    "    else:\n",
    "        return n*fact(n-1)\n",
    "fact(5)"
   ]
  },
  {
   "cell_type": "markdown",
   "id": "83729ddd",
   "metadata": {},
   "source": [
    "## 4. Python Program for Find sum of odd factors of a number"
   ]
  },
  {
   "cell_type": "code",
   "execution_count": 71,
   "id": "89d51852",
   "metadata": {},
   "outputs": [
    {
     "name": "stdout",
     "output_type": "stream",
     "text": [
      "Enter Number - 50\n",
      "[1, 2, 5, 10, 25, 50]\n",
      "sum of odd factors-  31\n"
     ]
    }
   ],
   "source": [
    "def factors(n):\n",
    "    global f1\n",
    "    f1=[]\n",
    "    for i in range(1,n+1):\n",
    "        if n%i==0:\n",
    "            f1.append(i)\n",
    "    return print(f1)\n",
    "def oddsum(self):\n",
    "    f = 0\n",
    "    for i in f1:\n",
    "        if i % 2 != 0:\n",
    "            f += i\n",
    "        \n",
    "        else:\n",
    "            pass\n",
    "    print(\"sum of odd factors- \",f)\n",
    "n = int(input(\"Enter Number - \"))\n",
    "factors(n)\n",
    "oddsum(f1)"
   ]
  },
  {
   "cell_type": "markdown",
   "id": "d15f7ba4",
   "metadata": {},
   "source": [
    "## 5. Python Program to Check if binary representation is a palindrome"
   ]
  },
  {
   "cell_type": "code",
   "execution_count": 94,
   "id": "77903945",
   "metadata": {},
   "outputs": [
    {
     "name": "stdout",
     "output_type": "stream",
     "text": [
      "enter Number21\n",
      "10101\n",
      "Number is Palindrome\n"
     ]
    }
   ],
   "source": [
    "n=int(input(\"enter Number\"))\n",
    "a=format(n,'b')\n",
    "print(a)\n",
    "b = str(a)\n",
    "if b[0:] == b[::-1]:\n",
    "    print(\"Number is Palindrome\")\n",
    "else:\n",
    "    print(\"Number is Not Palindrome\")"
   ]
  },
  {
   "cell_type": "markdown",
   "id": "4b9717a5",
   "metadata": {},
   "source": [
    "## 6. Python Program for Number of elements with odd factors in a given range"
   ]
  },
  {
   "cell_type": "code",
   "execution_count": 97,
   "id": "82d24a29",
   "metadata": {},
   "outputs": [
    {
     "name": "stdout",
     "output_type": "stream",
     "text": [
      "Enter Number - 50\n",
      "odd factors-  [1, 5, 25]\n"
     ]
    }
   ],
   "source": [
    "def factors(n):\n",
    "    global f1\n",
    "    f1=[]\n",
    "    for i in range(1,n+1):\n",
    "        if n%i==0:\n",
    "            f1.append(i)\n",
    "    #return print(f1)\n",
    "def oddsum(self):\n",
    "    f = []\n",
    "    for i in f1:\n",
    "        if i % 2 != 0:\n",
    "            f.append(i)\n",
    "        \n",
    "        else:\n",
    "            pass\n",
    "    print(\"odd factors- \",f)\n",
    "n = int(input(\"Enter Number - \"))\n",
    "factors(n)\n",
    "oddsum(f1)"
   ]
  },
  {
   "cell_type": "markdown",
   "id": "f0a22d6e",
   "metadata": {},
   "source": [
    "## 7. Python Program for Common Divisors of Two Numbers"
   ]
  },
  {
   "cell_type": "code",
   "execution_count": 148,
   "id": "86bd4858",
   "metadata": {},
   "outputs": [
    {
     "name": "stdout",
     "output_type": "stream",
     "text": [
      "Enter Number - 50\n",
      "Enter Number - 45\n",
      "common Divisors -  [1, 5]\n"
     ]
    }
   ],
   "source": [
    "a = int(input(\"Enter Number - \"))\n",
    "b = int(input(\"Enter Number - \"))\n",
    "n = []\n",
    "def divisor(a,b): \n",
    "    for i in range(1, min(a, b)+1):\n",
    "        if a%i==b%i==0:\n",
    "            n.append(i)     \n",
    "    print(\"common Divisors - \",n)\n",
    "divisor(a,b)"
   ]
  },
  {
   "cell_type": "markdown",
   "id": "377cc177",
   "metadata": {},
   "source": [
    "## 8. Python Program to Check if a count of divisors is even or odd"
   ]
  },
  {
   "cell_type": "code",
   "execution_count": 131,
   "id": "d08082b3",
   "metadata": {},
   "outputs": [
    {
     "name": "stdout",
     "output_type": "stream",
     "text": [
      "Enter Number - 38\n",
      "Count of Divisors are '4' even\n",
      "[1, 2, 19, 38]\n"
     ]
    }
   ],
   "source": [
    "a = int(input(\"Enter Number - \"))\n",
    "#b = int(input(\"Enter Number - \"))\n",
    "n = []\n",
    " \n",
    "for i in range(1,a+1):\n",
    "    if a%i==0:\n",
    "        n.append(i)\n",
    "if len(n)%2 == 0:\n",
    "    print(f\"Count of Divisors are '{len(n)}' even\")\n",
    "else:\n",
    "    print(f\"Count of Divisors are '{len(n)}' odd\")\n",
    "print(n) "
   ]
  },
  {
   "cell_type": "markdown",
   "id": "c4bc72f6",
   "metadata": {},
   "source": [
    "## 9. Python Program to Find the minimum sum of factors of a number"
   ]
  },
  {
   "cell_type": "code",
   "execution_count": 135,
   "id": "53205260",
   "metadata": {},
   "outputs": [
    {
     "name": "stdout",
     "output_type": "stream",
     "text": [
      "Enter Number - 50\n",
      "Minimum sum of factors -  13\n"
     ]
    }
   ],
   "source": [
    "def findMinSum(num):\n",
    "    sum = 0\n",
    "    i = 2\n",
    "    while(i * i <= num):\n",
    "        while(num % i == 0):\n",
    "            sum += i\n",
    "            num //= i\n",
    "        i += 1\n",
    "    sum += num\n",
    "    return sum\n",
    "num = int(input(\"Enter Number - \"))\n",
    "print (\"Minimum sum of factors - \",findMinSum(num))\n",
    " "
   ]
  },
  {
   "cell_type": "markdown",
   "id": "9b434442",
   "metadata": {},
   "source": [
    "## 10. Python Program to find Difference between sums of odd and even digits"
   ]
  },
  {
   "cell_type": "code",
   "execution_count": 210,
   "id": "7fa6425a",
   "metadata": {},
   "outputs": [
    {
     "name": "stdout",
     "output_type": "stream",
     "text": [
      "Enter Number 5678\n",
      "Difference between sums of odd and even digits are :  2\n",
      "12 14\n"
     ]
    }
   ],
   "source": [
    "a = int(input(\"Enter Number \"))\n",
    "b =str(a)\n",
    "def diff():\n",
    "    c = 0\n",
    "    d = 0\n",
    "    for i in range(0,len(b)):\n",
    "        if i%2==0:\n",
    "            c += int(b[i])\n",
    "        #elif i%2 !=0:\n",
    "        else:\n",
    "            d += int(b[i])\n",
    "        \n",
    "    print(\"Difference between sums of odd and even digits are : \",abs(c-d))\n",
    "    print(c,d)\n",
    "diff()      \n",
    "        "
   ]
  },
  {
   "cell_type": "code",
   "execution_count": null,
   "id": "008cce14",
   "metadata": {},
   "outputs": [],
   "source": [
    "def oddeven(n):\n",
    "x=str(n)\n",
    "odd=0\n",
    "even=0\n",
    "for i in range(0,len(x)):\n",
    "if i%2==0:\n",
    "even+=i\n",
    "else:\n",
    "odd+=i\n",
    "difference=even-odd\n",
    "print(difference)\n",
    "oddeven(1234)"
   ]
  },
  {
   "cell_type": "markdown",
   "id": "7a176960",
   "metadata": {},
   "source": [
    "## 11. Python Program for Largest and Smallest K digit number divisible by X"
   ]
  },
  {
   "cell_type": "code",
   "execution_count": 174,
   "id": "b4c2d966",
   "metadata": {},
   "outputs": [
    {
     "name": "stdout",
     "output_type": "stream",
     "text": [
      "Enter lenth of digit - 5\n",
      "Enter Number 5\n",
      "Smallest number :5, Largest Number :99995\n"
     ]
    }
   ],
   "source": [
    " #Largest and Smallest 3(k) digit number divisible by 2(x)\n",
    "a = int(input(\"Enter lenth of digit - \"))\n",
    "b = int(input(\"Enter Number \"))\n",
    "c = []\n",
    "def kdigit():\n",
    "    d = \"1\"\n",
    "    for i in range(0,a):\n",
    "        d +=\"0\"\n",
    "def x():\n",
    "    for i in range(1,int(d)):\n",
    "        if i%b==0:\n",
    "            c.append(i)\n",
    "        else:\n",
    "            pass\n",
    "    print(f\"Smallest number :{c[0]}, Largest Number :{c[-1]}\")\n",
    "kdigit()\n",
    "x()\n"
   ]
  },
  {
   "cell_type": "markdown",
   "id": "277a648d",
   "metadata": {},
   "source": [
    "## 12. Python Program to calculate the area of a Tetrahedron"
   ]
  },
  {
   "cell_type": "code",
   "execution_count": 234,
   "id": "b8afc503",
   "metadata": {},
   "outputs": [
    {
     "name": "stdout",
     "output_type": "stream",
     "text": [
      "Enter Number 15\n",
      "389.71143170299734\n"
     ]
    }
   ],
   "source": [
    "import math\n",
    "a = int(input(\"Enter Number \"))\n",
    "def area(a):\n",
    "    b = (math.sqrt(3))*a*a\n",
    "    print(b)\n",
    "area(a)"
   ]
  },
  {
   "cell_type": "markdown",
   "id": "f4543651",
   "metadata": {},
   "source": [
    "## 13. Python Program to Find the perimeter of a cylinder"
   ]
  },
  {
   "cell_type": "code",
   "execution_count": 240,
   "id": "9edbf806",
   "metadata": {},
   "outputs": [
    {
     "name": "stdout",
     "output_type": "stream",
     "text": [
      "Enter redius :10\n",
      "enter height :20\n",
      "Perimeter of Cylinder is : 80\n"
     ]
    }
   ],
   "source": [
    "r = int(input(\"Enter redius :\"))\n",
    "h = int(input(\"enter height :\"))\n",
    "def perimeter():\n",
    "    p = (4*r)+(2*h)\n",
    "    print(\"Perimeter of Cylinder is :\",p)\n",
    "perimeter()"
   ]
  },
  {
   "cell_type": "markdown",
   "id": "924df23c",
   "metadata": {},
   "source": [
    "## 14. Python Program to Find the vertex, focus, and directrix of a parabola"
   ]
  },
  {
   "cell_type": "code",
   "execution_count": 244,
   "id": "03f39f6b",
   "metadata": {},
   "outputs": [
    {
     "name": "stdout",
     "output_type": "stream",
     "text": [
      "Enter x 20\n",
      "Enter y 15\n",
      "Enter z 10\n",
      "Vertex: ( -0.375 ,  7.1875 )\n",
      "Focus: ( -0.375 ,  7.2 )\n",
      "Directrix: y= -18070\n"
     ]
    }
   ],
   "source": [
    "a = int(input(\"Enter x \"))\n",
    "b = int(input(\"Enter y \"))\n",
    "c = int(input(\"Enter z \"))\n",
    "def parabola(a, b, c):\n",
    "    print (\"Vertex: (\" , (-b / (2 * a)) , \", \",(((4 * a * c) - (b * b)) / (4 * a)) , \")\" )\n",
    "          \n",
    "    print (\"Focus: (\" , (-b / (2 * a)) , \", \", (((4 * a * c) - (b * b) + 1) / (4 * a)) , \")\" )\n",
    "      \n",
    "    print (\"Directrix: y=\", (int)(c - ((b * b) + 1) * 4 * a ))    \n",
    "parabola(a,b,c)"
   ]
  },
  {
   "cell_type": "markdown",
   "id": "1abd8118",
   "metadata": {},
   "source": [
    "## 15. Python program to find the most occurring character and its count"
   ]
  },
  {
   "cell_type": "code",
   "execution_count": 280,
   "id": "2d6797aa",
   "metadata": {},
   "outputs": [
    {
     "name": "stdout",
     "output_type": "stream",
     "text": [
      "The maximum of all characters: o\n"
     ]
    }
   ],
   "source": [
    "from collections import Counter\n",
    "inp = \"Welcome to Python\"\n",
    "res = Counter(inp)\n",
    "res1 = max(res, key = res.get)\n",
    "print (\"The maximum of all characters: \" + str(res1))\n"
   ]
  },
  {
   "cell_type": "markdown",
   "id": "5be8927c",
   "metadata": {},
   "source": [
    "## 16. Python Program to Find the sum of even factors of a number"
   ]
  },
  {
   "cell_type": "code",
   "execution_count": 297,
   "id": "6c6cf3fc",
   "metadata": {},
   "outputs": [
    {
     "name": "stdout",
     "output_type": "stream",
     "text": [
      "Enter Number - 50\n",
      "even factors-  [2, 10, 50]\n",
      "Sum of Even Factors : 62\n"
     ]
    }
   ],
   "source": [
    "def factors(n):\n",
    "    global f1\n",
    "    f1=[]\n",
    "    for i in range(1,n+1):\n",
    "        if n%i==0:\n",
    "            f1.append(i)\n",
    "    #return print(f1)\n",
    "def oddsum(self):\n",
    "    c = 0\n",
    "    f = []\n",
    "    for i in f1:\n",
    "        if i % 2 == 0:\n",
    "            f.append(i)\n",
    "        \n",
    "        else:\n",
    "            pass\n",
    "    print(\"even factors- \",f)\n",
    "    for j in f:\n",
    "        c += j\n",
    "    print(\"Sum of Even Factors :\",c)\n",
    "n = int(input(\"Enter Number - \"))\n",
    "factors(n)\n",
    "oddsum(f1)"
   ]
  },
  {
   "cell_type": "markdown",
   "id": "921b0fb0",
   "metadata": {},
   "source": [
    "## 17. Python Program to Check if all digits of a number divide it"
   ]
  },
  {
   "cell_type": "code",
   "execution_count": 26,
   "id": "f53fbf0a",
   "metadata": {},
   "outputs": [
    {
     "name": "stdout",
     "output_type": "stream",
     "text": [
      "Enter Number : 48\n",
      "48 Number is Divisible by 4\n",
      "48 Number is Divisible by 8\n"
     ]
    }
   ],
   "source": [
    "n = input(\"Enter Number : \")\n",
    "def number(n):\n",
    "    for i in range(0,len(n)):\n",
    "        if int(n)%int(n[i])==0:\n",
    "            print(n,\"Number is Divisible by\",n[i])\n",
    "        else:\n",
    "            print(n,\"Number is Not Divisible by\",n[i])\n",
    "    \n",
    "number(n)"
   ]
  },
  {
   "cell_type": "markdown",
   "id": "f5ddf4b5",
   "metadata": {},
   "source": [
    "## 18. Python program to convert float decimal to Octal number."
   ]
  },
  {
   "cell_type": "code",
   "execution_count": 37,
   "id": "b4ead747",
   "metadata": {},
   "outputs": [
    {
     "name": "stdout",
     "output_type": "stream",
     "text": [
      "3.1075\n"
     ]
    }
   ],
   "source": [
    "def float_to_octal(x, num_digits = 4):\n",
    "\n",
    "    whole = int(x)\n",
    "    fraction = (x - whole) * 8\n",
    "    # Convert first digit\n",
    "    digit = int(fraction)\n",
    "    fraction = (fraction - digit) * 8\n",
    "    digits = [str(digit)]\n",
    "    # Convert remaining digits\n",
    "    i = 1\n",
    "    while fraction and i < num_digits:\n",
    "        digit = int(fraction)\n",
    "        fraction = (fraction - digit) * 8\n",
    "        digits.append(str(digit))\n",
    "        i += 1\n",
    "        \n",
    "    return float(\"{:o}.{}\".format(whole, \"\".join(digits)))\n",
    "print(float_to_octal(3.14))"
   ]
  },
  {
   "cell_type": "markdown",
   "id": "beaf4d2c",
   "metadata": {},
   "source": [
    "## 19.Python program to copy odd lines of one file to other."
   ]
  },
  {
   "cell_type": "code",
   "execution_count": 60,
   "id": "5eabb5fe",
   "metadata": {},
   "outputs": [],
   "source": [
    "with open(\"demo.txt\",'w') as f:\n",
    "    f.write(\"Hello\\ni am python\\ni am a programming language\\ni was released in 1991\")"
   ]
  },
  {
   "cell_type": "code",
   "execution_count": 61,
   "id": "48e3723d",
   "metadata": {},
   "outputs": [
    {
     "name": "stdout",
     "output_type": "stream",
     "text": [
      "Hello\n",
      "i am python\n",
      "i am a programming language\n",
      "i was released in 1991\n"
     ]
    }
   ],
   "source": [
    "with open(\"demo.txt\",'r') as f:\n",
    "    print(f.read())\n",
    "    c = 1\n",
    "    for i in f.readlines():\n",
    "        if c%2 != 0:\n",
    "            with open(\"demo1.txt\",'a') as f:\n",
    "                f.write(i)\n",
    "        else:\n",
    "            pass\n",
    "        c+=1"
   ]
  },
  {
   "cell_type": "code",
   "execution_count": 57,
   "id": "afcd3c3e",
   "metadata": {},
   "outputs": [
    {
     "name": "stdout",
     "output_type": "stream",
     "text": [
      "Hello\n",
      "i am a programming language\n",
      "\n"
     ]
    }
   ],
   "source": [
    "with open(\"demo1.txt\",'r') as f:\n",
    "    print(f.read())"
   ]
  },
  {
   "cell_type": "markdown",
   "id": "3d0b5832",
   "metadata": {},
   "source": [
    "## 20. Write a Python program to replace whitespaces with an underscore and vice versa."
   ]
  },
  {
   "cell_type": "code",
   "execution_count": 86,
   "id": "519dfe57",
   "metadata": {},
   "outputs": [
    {
     "name": "stdout",
     "output_type": "stream",
     "text": [
      "i_am_a_programming language\n"
     ]
    }
   ],
   "source": [
    "string = \"i am a programming_language\"\n",
    "a = string.replace(\" \",\".\")\n",
    "b = a.replace(\"_\",\" \")\n",
    "c = b.replace(\".\",\"_\")\n",
    "print(c)"
   ]
  },
  {
   "cell_type": "markdown",
   "id": "9bad49b0",
   "metadata": {},
   "source": [
    "## 21. Write a Python program to convert a date or yyyy-mm-dd format to dd-mm-yyyy"
   ]
  },
  {
   "cell_type": "code",
   "execution_count": 93,
   "id": "6e17c4a3",
   "metadata": {},
   "outputs": [
    {
     "name": "stdout",
     "output_type": "stream",
     "text": [
      "2022-08-19\n",
      "19-08-2022\n"
     ]
    }
   ],
   "source": [
    "import datetime\n",
    "print(datetime.datetime.today().date())\n",
    "print(datetime.datetime.today().date().strftime('%d-%m-%Y'))"
   ]
  },
  {
   "cell_type": "markdown",
   "id": "03c46745",
   "metadata": {},
   "source": [
    "## 22.Write a Python program to find all words starting with 'a' or 'e' in a given string."
   ]
  },
  {
   "cell_type": "code",
   "execution_count": 95,
   "id": "8df5fd3b",
   "metadata": {
    "scrolled": true
   },
   "outputs": [
    {
     "name": "stdout",
     "output_type": "stream",
     "text": [
      "['ello', 'am', 'am', 'amming', 'anguage', 'as', 'eleased']\n"
     ]
    }
   ],
   "source": [
    "import re\n",
    "text = \"Hello i am python i am a programming language i was released in 1991\"\n",
    "list = re.findall(\"[ae]\\w+\", text)\n",
    "print(list)"
   ]
  },
  {
   "cell_type": "markdown",
   "id": "beefbf66",
   "metadata": {},
   "source": [
    "## 23. Write a Python program to abbreviate 'Road' as 'Rd.' in a given string."
   ]
  },
  {
   "cell_type": "code",
   "execution_count": 102,
   "id": "0c8b7d8f",
   "metadata": {
    "scrolled": true
   },
   "outputs": [
    {
     "name": "stdout",
     "output_type": "stream",
     "text": [
      "Pune Rd Nashik Rd Mumbai Rd\n"
     ]
    }
   ],
   "source": [
    "string1 = 'Pune Road Nashik Road Mumbai Road'\n",
    "s = string1.replace('Road','Rd')\n",
    "print(s)"
   ]
  },
  {
   "cell_type": "code",
   "execution_count": 110,
   "id": "1bd8eefd",
   "metadata": {},
   "outputs": [
    {
     "name": "stdout",
     "output_type": "stream",
     "text": [
      "Pune Rd Nashik Rd Mumbai Rd\n"
     ]
    }
   ],
   "source": [
    "import re\n",
    "a = {\"abc\"}\n",
    "\n",
    "street = 'Pune Road Nashik Road Mumbai Road'\n",
    "print(re.sub('Road', 'Rd', street))"
   ]
  },
  {
   "cell_type": "code",
   "execution_count": null,
   "id": "8a6d2dd6",
   "metadata": {},
   "outputs": [],
   "source": [
    "a = {1,2}\n",
    "b = {1:2}\n",
    "b."
   ]
  }
 ],
 "metadata": {
  "kernelspec": {
   "display_name": "Python 3 (ipykernel)",
   "language": "python",
   "name": "python3"
  },
  "language_info": {
   "codemirror_mode": {
    "name": "ipython",
    "version": 3
   },
   "file_extension": ".py",
   "mimetype": "text/x-python",
   "name": "python",
   "nbconvert_exporter": "python",
   "pygments_lexer": "ipython3",
   "version": "3.8.5"
  }
 },
 "nbformat": 4,
 "nbformat_minor": 5
}
