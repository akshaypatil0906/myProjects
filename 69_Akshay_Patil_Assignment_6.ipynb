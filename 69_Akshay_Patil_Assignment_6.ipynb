{
 "cells": [
  {
   "cell_type": "markdown",
   "id": "f091af6b",
   "metadata": {},
   "source": [
    "## 1. Write a Python program to sort a list of tuples using Lambda."
   ]
  },
  {
   "cell_type": "code",
   "execution_count": 5,
   "id": "73425546",
   "metadata": {},
   "outputs": [
    {
     "name": "stdout",
     "output_type": "stream",
     "text": [
      "[(3, 4), (3, 5), (6, 5), (9, 5)]\n"
     ]
    }
   ],
   "source": [
    "l1 = [(3,4),(9,5),(3,5),(6,5)]\n",
    "l1.sort(key = lambda x: x[0])\n",
    "print(l1)"
   ]
  },
  {
   "cell_type": "markdown",
   "id": "0f2c03a0",
   "metadata": {},
   "source": [
    "## 2. Write a Python program to sort a list of dictionaries using Lambda"
   ]
  },
  {
   "cell_type": "code",
   "execution_count": 21,
   "id": "2bb51068",
   "metadata": {},
   "outputs": [
    {
     "data": {
      "text/plain": [
       "[{'a': 3}, {'a': 4}, {'a': 5}, {'a': 6}]"
      ]
     },
     "execution_count": 21,
     "metadata": {},
     "output_type": "execute_result"
    }
   ],
   "source": [
    "l1 = [{'a':4},{'a':6},{'a':5},{'a':3}]\n",
    "sorted(l1,key = lambda x : x['a'], reverse = False)\n"
   ]
  },
  {
   "cell_type": "markdown",
   "id": "c2531821",
   "metadata": {},
   "source": [
    "## 3. Write a Python program to find square and cube every number in a given list of integers using Lambda"
   ]
  },
  {
   "cell_type": "code",
   "execution_count": 33,
   "id": "9924a208",
   "metadata": {},
   "outputs": [
    {
     "name": "stdout",
     "output_type": "stream",
     "text": [
      "Square =  [9, 16, 81, 25, 9, 25, 36, 25]\n",
      "Cube =  [27, 64, 729, 125, 27, 125, 216, 125]\n"
     ]
    }
   ],
   "source": [
    "l1 = [3,4,9,5,3,5,6,5]\n",
    "l2 =list(map(lambda x :x**2 ,l1))\n",
    "print(\"Square = \",l2)\n",
    "l3 = list(map(lambda x: x**3 ,l1))\n",
    "print(\"Cube = \",l3)"
   ]
  },
  {
   "cell_type": "markdown",
   "id": "852a890d",
   "metadata": {},
   "source": [
    "## 4. Write a Python program to find if a given string starts with a given character using Lambda"
   ]
  },
  {
   "cell_type": "code",
   "execution_count": 59,
   "id": "bf90de30",
   "metadata": {},
   "outputs": [
    {
     "name": "stdout",
     "output_type": "stream",
     "text": [
      "Enter String Akshay\n",
      "Enter char A\n",
      "True\n"
     ]
    }
   ],
   "source": [
    "inp1 = input(\"Enter String \")\n",
    "inp2 = input(\"Enter char \")\n",
    "inp1 = lambda x: True if x.startswith(inp2) else False\n",
    "print(inp1(inp2))\n",
    "#i"
   ]
  },
  {
   "cell_type": "markdown",
   "id": "652a00f7",
   "metadata": {},
   "source": [
    "## 5. Write a Python program to check whether a given string is number or not using Lambda"
   ]
  },
  {
   "cell_type": "code",
   "execution_count": 65,
   "id": "e7fb6d7e",
   "metadata": {},
   "outputs": [
    {
     "name": "stdout",
     "output_type": "stream",
     "text": [
      "Enter String1\n",
      "String is Number\n"
     ]
    }
   ],
   "source": [
    "str1 = input(\"Enter String\")\n",
    "str2 = (lambda x: print(\"String is Number\") if x.isdigit() else False)\n",
    "str2(str1)"
   ]
  },
  {
   "cell_type": "markdown",
   "id": "a6b01243",
   "metadata": {},
   "source": [
    "## 6. Write a Python program to create Fibonacci series using Lambda"
   ]
  },
  {
   "cell_type": "code",
   "execution_count": 68,
   "id": "c4cb55ee",
   "metadata": {},
   "outputs": [
    {
     "name": "stdout",
     "output_type": "stream",
     "text": [
      "Enter Number10\n",
      "[0, 1, 1, 2, 3, 5, 8, 13, 21, 34]\n"
     ]
    }
   ],
   "source": [
    "from functools import reduce\n",
    "inp1 = int(input('Enter Number'))\n",
    "fab = lambda n: reduce(lambda x, _: x+[x[-1]+x[-2]], range(n-2), [0, 1])\n",
    "print(fab(inp1))"
   ]
  },
  {
   "cell_type": "markdown",
   "id": "dd6cee05",
   "metadata": {},
   "source": [
    "# 7. Write a Python program to find the intersection of two given arrays using Lambda"
   ]
  },
  {
   "cell_type": "code",
   "execution_count": 88,
   "id": "e8f55d3c",
   "metadata": {},
   "outputs": [
    {
     "name": "stdout",
     "output_type": "stream",
     "text": [
      "[4, 45, 6, 3, 2, 5, 7, 8, 5, 3, 3, 6, 8, 45, 2, 45]\n"
     ]
    }
   ],
   "source": [
    "arr1 = [1,2,5,76,4,6,5,3,2,4,7,5,5,7,8,2,4,45,]\n",
    "arr2 = [23,4,45,6,3,2,5,7,8,5,3,3,6,8,45,2,45]\n",
    "arr3 = list(filter(lambda x: x in arr1,arr2))\n",
    "print(arr3)"
   ]
  },
  {
   "cell_type": "markdown",
   "id": "a91dd428",
   "metadata": {},
   "source": [
    "## 8. Write a Python program to rearrange positive and negative numbers in a given array using Lambda"
   ]
  },
  {
   "cell_type": "code",
   "execution_count": 102,
   "id": "76706a1a",
   "metadata": {},
   "outputs": [
    {
     "name": "stdout",
     "output_type": "stream",
     "text": [
      "[-76, -7, -2, 1, 2, 2, 3, 4, 4, 4, 5, 5, 5, 5, 6, 7, 8, 45]\n"
     ]
    }
   ],
   "source": [
    "arr = [1,2,5,-76,4,6,5,3,2,4,-7,5,5,7,8,-2,4,45]\n",
    "arr1 = (lambda x: sorted(x))\n",
    "print(arr1(arr))\n"
   ]
  },
  {
   "cell_type": "markdown",
   "id": "6c64ba54",
   "metadata": {},
   "source": [
    "## 9. Write a Python program to count the even, odd numbers in a given array of integers using Lambda"
   ]
  },
  {
   "cell_type": "code",
   "execution_count": 122,
   "id": "e28a0d53",
   "metadata": {},
   "outputs": [
    {
     "name": "stdout",
     "output_type": "stream",
     "text": [
      "7\n",
      "8\n"
     ]
    }
   ],
   "source": [
    "arr = [1,2,5,76,4,6,5,3,2,4,5,5,7,8,45]\n",
    "arr1 = len(list(filter(lambda x: (x%2 == 0) , arr)))\n",
    "arr2 = len(list(filter(lambda x: (x%2 != 0) , arr)))\n",
    "\n",
    "#print(arr1)\n",
    "print(arr1)\n",
    "print(arr2)"
   ]
  },
  {
   "cell_type": "markdown",
   "id": "db83da3a",
   "metadata": {},
   "source": [
    "## 10. Write a Python program to add two given lists using map and lambda"
   ]
  },
  {
   "cell_type": "code",
   "execution_count": 137,
   "id": "d8f2f3f0",
   "metadata": {},
   "outputs": [
    {
     "name": "stdout",
     "output_type": "stream",
     "text": [
      "[7, 9, 15, 8, 5, 12, 10]\n"
     ]
    }
   ],
   "source": [
    "l1 = [3,4,9,5,3,5,6,5]\n",
    "l2 = [4,5,6,3,2,7,4]\n",
    "l3 = list(map(lambda x,y : x+y,l1,l2))\n",
    "print(l3)"
   ]
  },
  {
   "cell_type": "markdown",
   "id": "218ef166",
   "metadata": {},
   "source": [
    "## 11. Write a Python program to find numbers divisible by nineteen or thirteen from a list of numbers using Lambda"
   ]
  },
  {
   "cell_type": "code",
   "execution_count": 163,
   "id": "00fa2d43",
   "metadata": {},
   "outputs": [
    {
     "name": "stdout",
     "output_type": "stream",
     "text": [
      "Divisible By 13 =  [39, 52]\n",
      "Divisible By 19 =  [38]\n"
     ]
    }
   ],
   "source": [
    "l1 = [39,45,9,53,38,55,64,52]\n",
    "l2 = list(filter(lambda x : (x%13 == 0) , l1))\n",
    "l3 = list(filter(lambda x : (x%19 == 0)  , l1))\n",
    "print(\"Divisible By 13 = \",l2)\n",
    "print(\"Divisible By 19 = \",l3)"
   ]
  },
  {
   "cell_type": "markdown",
   "id": "efd4a747",
   "metadata": {},
   "source": [
    "## 12. Write a Python program to find palindromes in a given list of strings using Lambda"
   ]
  },
  {
   "cell_type": "code",
   "execution_count": 167,
   "id": "312dfccb",
   "metadata": {},
   "outputs": [
    {
     "name": "stdout",
     "output_type": "stream",
     "text": [
      "\n",
      "List of palindromes: ['pop', 'wow', 'ava', 'aaa']\n"
     ]
    }
   ],
   "source": [
    "texts = [\"pop\", \"wow\", \"Python\", \"abcd\", \"ava\", \"aaa\"]\n",
    "result = list(filter(lambda x: (x == \"\".join(reversed(x))), texts)) \n",
    "print(\"\\nList of palindromes:\",result)"
   ]
  },
  {
   "cell_type": "markdown",
   "id": "363ef23f",
   "metadata": {},
   "source": [
    "## 13. Write a Python program to find all anagrams of a string in a given list of strings using lambda"
   ]
  },
  {
   "cell_type": "code",
   "execution_count": 178,
   "id": "0a2b4d92",
   "metadata": {},
   "outputs": [
    {
     "name": "stdout",
     "output_type": "stream",
     "text": [
      "['pop', 'opp']\n"
     ]
    }
   ],
   "source": [
    "from collections import Counter\n",
    "texts = [\"pop\", \"wow\", \"Python\", \"abcd\", \"opp\", \"aaa\"]\n",
    "str1 = \"ppo\"\n",
    "result = list(filter(lambda x : (Counter(str1) == Counter(x)) , texts))\n",
    "print(result)"
   ]
  },
  {
   "cell_type": "markdown",
   "id": "20f671fb",
   "metadata": {},
   "source": [
    "## 14. Write a Python program that multiplies each number of a given list with a given number using lambda function. Print the result"
   ]
  },
  {
   "cell_type": "code",
   "execution_count": 181,
   "id": "f1e25186",
   "metadata": {},
   "outputs": [
    {
     "name": "stdout",
     "output_type": "stream",
     "text": [
      "Enter Number = 10\n",
      "[30, 40, 90, 50, 30, 50, 60, 50]\n"
     ]
    }
   ],
   "source": [
    "l1 = [3,4,9,5,3,5,6,5]\n",
    "n = int(input(\"Enter Number = \"))\n",
    "l2 = list(map(lambda x: x*n , l1))\n",
    "print(l2)"
   ]
  },
  {
   "cell_type": "markdown",
   "id": "f02fbf85",
   "metadata": {},
   "source": [
    "## 15. Write a Python program to calculate the sum of the positive and negative numbers of a given list of numbers using lambda function"
   ]
  },
  {
   "cell_type": "code",
   "execution_count": 193,
   "id": "ac94ab11",
   "metadata": {},
   "outputs": [
    {
     "name": "stdout",
     "output_type": "stream",
     "text": [
      "40\n",
      "-14\n"
     ]
    }
   ],
   "source": [
    "l1 = [3,4,9,5,3,5,6,5,-5,-9]\n",
    "c = 1\n",
    "l2 = list(filter(lambda x :x>0,l1))\n",
    "l3 = list(filter(lambda x:x<0,l1))\n",
    "print(sum(l2))\n",
    "print(sum(l3))"
   ]
  },
  {
   "cell_type": "markdown",
   "id": "49799f15",
   "metadata": {},
   "source": [
    "## 16. Write a Python program to find the list with maximum and minimum length using lambda"
   ]
  },
  {
   "cell_type": "code",
   "execution_count": 198,
   "id": "b99d8666",
   "metadata": {},
   "outputs": [
    {
     "name": "stdout",
     "output_type": "stream",
     "text": [
      "(3, [13, 15, 17])\n",
      "(1, [0])\n"
     ]
    }
   ],
   "source": [
    "list1 = [[0], [1, 3], [5, 7], [9, 11], [13, 15, 17]]\n",
    "\n",
    "def max_list(input_list):\n",
    "    maxl = max(len(x) for x in input_list )   \n",
    "    maxlst = max(input_list, key = lambda i: len(i))    \n",
    "    return(maxl, maxlst)\n",
    "    \n",
    "def min_list(input_list):\n",
    "    minl = min(len(x) for x in input_list )  \n",
    "    minlst = min(input_list, key = lambda i: len(i))\n",
    "    return(minl, minlst)\n",
    "print(max_length_list(list1))\n",
    "print(min_length_list(list1))\n"
   ]
  },
  {
   "cell_type": "markdown",
   "id": "8baff90a",
   "metadata": {},
   "source": [
    "## 17. Write a Python program to check whether a specified list is sorted or not using lambda"
   ]
  },
  {
   "cell_type": "code",
   "execution_count": 202,
   "id": "4ef96031",
   "metadata": {},
   "outputs": [
    {
     "name": "stdout",
     "output_type": "stream",
     "text": [
      "Not Sorted\n"
     ]
    }
   ],
   "source": [
    "l1 = [3,4,9,5,3,5,6,5,-5,-9]\n",
    "l2 = sorted(l1)\n",
    "l3 = lambda x : print(\"Sorted\") if (x == l2) else print(\"Not Sorted\")\n",
    "l3(l1)"
   ]
  },
  {
   "cell_type": "markdown",
   "id": "afbfe8ef",
   "metadata": {},
   "source": [
    "## 18. Write a Python program to remove all elements from a given list present in another list using lambda."
   ]
  },
  {
   "cell_type": "code",
   "execution_count": 231,
   "id": "366922ec",
   "metadata": {},
   "outputs": [
    {
     "name": "stdout",
     "output_type": "stream",
     "text": [
      "[10]\n"
     ]
    }
   ],
   "source": [
    "l1 = [3,4,9,5,3,5,6,5]\n",
    "l2 = [3,4,9,4,10]\n",
    "l2 = list(filter(lambda x :x not in l1,l2))\n",
    "print(l2)"
   ]
  },
  {
   "cell_type": "markdown",
   "id": "79743d97",
   "metadata": {},
   "source": [
    "## 19. Write a Python program to convert string element to integer inside a given tuple using lambda"
   ]
  },
  {
   "cell_type": "code",
   "execution_count": 238,
   "id": "f7d37db8",
   "metadata": {},
   "outputs": [
    {
     "name": "stdout",
     "output_type": "stream",
     "text": [
      "(1, 2, 3)\n"
     ]
    }
   ],
   "source": [
    "t1 = (\"1\",\"2\",\"3\")\n",
    "t2 = tuple(list(map(lambda x: int(x) if (x.isdigit) else False , t1)))\n",
    "print(t2)"
   ]
  },
  {
   "cell_type": "markdown",
   "id": "489be6a4",
   "metadata": {},
   "source": [
    "# 20. Write a Python program to count the occurrences of the items in a given list using lambda"
   ]
  },
  {
   "cell_type": "code",
   "execution_count": 245,
   "id": "ab3bdcb7",
   "metadata": {},
   "outputs": [
    {
     "name": "stdout",
     "output_type": "stream",
     "text": [
      "2\n"
     ]
    }
   ],
   "source": [
    "l1 = [\"Python\",2,5,3,2,4,\"Python\"]\n",
    "l2 = lambda x: x.count(\"Python\")\n",
    "print(l2(l1))"
   ]
  },
  {
   "cell_type": "markdown",
   "id": "a084924b",
   "metadata": {},
   "source": [
    "## 21. Write a Python program to add three given lists using Python map and lambda"
   ]
  },
  {
   "cell_type": "code",
   "execution_count": 252,
   "id": "53e58964",
   "metadata": {},
   "outputs": [
    {
     "data": {
      "text/plain": [
       "['pycharm Jupyter VS-code']"
      ]
     },
     "execution_count": 252,
     "metadata": {},
     "output_type": "execute_result"
    }
   ],
   "source": [
    "l1 = [\"pycharm \"]\n",
    "l2 = [\"Jupyter \"]\n",
    "l3 = [\"VS-code\"]\n",
    "l4 = list(map(lambda x,y,z: x+y+z, l1,l2,l3))\n",
    "l4"
   ]
  },
  {
   "cell_type": "markdown",
   "id": "f316a2b7",
   "metadata": {},
   "source": [
    "## 22. Write a Python program to listify the list of given strings individually using Python map"
   ]
  },
  {
   "cell_type": "code",
   "execution_count": 257,
   "id": "4a4b6f20",
   "metadata": {},
   "outputs": [
    {
     "data": {
      "text/plain": [
       "[['P', 'y', 'c', 'h', 'a', 'r', 'm'],\n",
       " ['J', 'u', 'p', 'y', 't', 'e', 'r'],\n",
       " ['V', 'S', '-', 'C', 'o', 'd', 'e'],\n",
       " ['S', 'p', 'y', 'd', 'e', 'r'],\n",
       " ['D', 'a', 't', 'a', 's', 'p', 'e', 'l', 'l'],\n",
       " ['O', 'r', 'a', 'n', 'g', 'e']]"
      ]
     },
     "execution_count": 257,
     "metadata": {},
     "output_type": "execute_result"
    }
   ],
   "source": [
    "l1 = [\"Pycharm\",\"Jupyter\",\"VS-Code\",\"Spyder\",\"Dataspell\",\"Orange\"]\n",
    "l2 = list(map(list,l1))\n",
    "l2"
   ]
  },
  {
   "cell_type": "markdown",
   "id": "8608581b",
   "metadata": {},
   "source": [
    "## 23. Write a Python program to square the elements of a list using map() function"
   ]
  },
  {
   "cell_type": "code",
   "execution_count": 262,
   "id": "60831d32",
   "metadata": {},
   "outputs": [
    {
     "name": "stdout",
     "output_type": "stream",
     "text": [
      "[4, 9, 25, 49, 9, 64, 81]\n"
     ]
    }
   ],
   "source": [
    "l1 = [2,3,5,7,3,8,9]\n",
    "def square_num(n):\n",
    "    return n * n\n",
    "l2 = list(map(square_num,l1))\n",
    "print(l2)"
   ]
  },
  {
   "cell_type": "markdown",
   "id": "bf25ae01",
   "metadata": {},
   "source": [
    "## 24. Write a Python program to add two given lists and find the difference between lists. Use map() function"
   ]
  },
  {
   "cell_type": "code",
   "execution_count": 394,
   "id": "d462a3a1",
   "metadata": {},
   "outputs": [
    {
     "name": "stdout",
     "output_type": "stream",
     "text": [
      "<map object at 0x0000011E03B9A850>\n"
     ]
    }
   ],
   "source": [
    "l1 = [1,3,5,3,56,7,8,56]\n",
    "l2 = [2,3,5,7,3,8,9]\n",
    "l3,l4 =set(l1),set(l2)\n",
    "\n",
    "#l = list(map(lambda x : x not in l1,l2))\n",
    "print(l)"
   ]
  },
  {
   "cell_type": "markdown",
   "id": "be18ff70",
   "metadata": {},
   "source": [
    "## 25. Write a Python program to convert a given list of integers and a tuple of integers in a list of strings"
   ]
  },
  {
   "cell_type": "code",
   "execution_count": 265,
   "id": "3577bed8",
   "metadata": {},
   "outputs": [
    {
     "name": "stdout",
     "output_type": "stream",
     "text": [
      "['1', '3', '5', '3', '56', '7', '8', '56']\n",
      "['1', '3', '5', '3', '56', '7', '8', '56']\n"
     ]
    }
   ],
   "source": [
    "l1 = [1,3,5,3,56,7,8,56]\n",
    "t1 = (1,3,5,3,56,7,8,56)\n",
    "l2 = list(map(lambda x : str(x) , l1))\n",
    "t2 = list(map(lambda x : str(x) , t1))\n",
    "print(l2)\n",
    "print(t2)"
   ]
  },
  {
   "cell_type": "markdown",
   "id": "68731d2c",
   "metadata": {},
   "source": [
    "## 26. Write a Python program to compute the sum of elements of an given array of integers, use map() function"
   ]
  },
  {
   "cell_type": "code",
   "execution_count": 267,
   "id": "2cf8393c",
   "metadata": {},
   "outputs": [
    {
     "name": "stdout",
     "output_type": "stream",
     "text": [
      "Original array: array('i', [2, 2, 3, 4, 5, -15])\n",
      "Sum of all elements of the said array:\n",
      "1\n"
     ]
    }
   ],
   "source": [
    "from array import array\n",
    "def array_sum(nums_arr):\n",
    "    sum_n = 0\n",
    "    for n in nums_arr:\n",
    "        sum_n += n\n",
    "    return sum_n\n",
    "\n",
    "nums = array('i', [2, 2, 3, 4, 5, -15])\n",
    "print(\"Original array:\",nums)\n",
    "nums_arr = list(map(int, nums))\n",
    "result = array_sum(nums_arr)\n",
    "print(\"Sum of all elements of the said array:\")\n",
    "print(result)"
   ]
  },
  {
   "cell_type": "markdown",
   "id": "1ce9c25b",
   "metadata": {},
   "source": [
    "## 27. Write a Python program to count the same pair in two given lists. use map() function"
   ]
  },
  {
   "cell_type": "code",
   "execution_count": 270,
   "id": "ecc8e9cb",
   "metadata": {},
   "outputs": [
    {
     "name": "stdout",
     "output_type": "stream",
     "text": [
      "2\n"
     ]
    }
   ],
   "source": [
    "l1 = [1,3,5,3,56,7,8,56]\n",
    "l2 = [3,4,5,6,34,2,4,56]\n",
    "from operator import eq\n",
    "def count_same_pair(l1, l2):\n",
    "    result = sum(map(eq, l1, l2))\n",
    "    return result\n",
    "print(count_same_pair(l1,l2))"
   ]
  },
  {
   "cell_type": "markdown",
   "id": "edc2580f",
   "metadata": {},
   "source": [
    "## 28. Write a Python program to convert a given list of strings into list of lists using map function"
   ]
  },
  {
   "cell_type": "code",
   "execution_count": 278,
   "id": "2f00ba34",
   "metadata": {},
   "outputs": [
    {
     "name": "stdout",
     "output_type": "stream",
     "text": [
      "[['p', 'y', 't', 'h', 'o', 'n'], ['j', 'a', 'v', 'a']]\n"
     ]
    }
   ],
   "source": [
    "l1 = [\"python\",\"java\"]\n",
    "def strings_to_listOflists(str):\n",
    "    result = map(list, str)\n",
    "    return list(result)\n",
    "\n",
    "print(strings_to_listOflists(l1))"
   ]
  },
  {
   "cell_type": "markdown",
   "id": "df66ad91",
   "metadata": {},
   "source": [
    "## 29. Write a Python program to convert a given list of tuples to a list of strings using map function"
   ]
  },
  {
   "cell_type": "code",
   "execution_count": 279,
   "id": "b903c926",
   "metadata": {},
   "outputs": [
    {
     "name": "stdout",
     "output_type": "stream",
     "text": [
      "['(1, 2)', '(2, 3)']\n"
     ]
    }
   ],
   "source": [
    "l1= [(1,2),(2,3)]\n",
    "def l_to_str(str1):\n",
    "    result = map(str,str1)\n",
    "    return list(result)\n",
    "print(l_to_str(l1))"
   ]
  },
  {
   "cell_type": "markdown",
   "id": "091a69d2",
   "metadata": {},
   "source": [
    "## 30. Python program to find the diff. between two lists using filter() function"
   ]
  },
  {
   "cell_type": "code",
   "execution_count": 312,
   "id": "67bdef95",
   "metadata": {},
   "outputs": [
    {
     "name": "stdout",
     "output_type": "stream",
     "text": [
      "[1, 2, 7, 8]\n"
     ]
    }
   ],
   "source": [
    "l1 = [1,2,3,4,5,6]\n",
    "l2 = [3,4,5,6,7,8]\n",
    "l4 = list(filter(lambda x : x not in l1,l2))\n",
    "l3 = list(filter(lambda x : x not in l2,l1))\n",
    "print(l3+l4)"
   ]
  },
  {
   "cell_type": "markdown",
   "id": "e2ce62aa",
   "metadata": {},
   "source": [
    "## 31. Python program to remove stop words from string using filter() function"
   ]
  },
  {
   "cell_type": "code",
   "execution_count": 9,
   "id": "94e9def4",
   "metadata": {},
   "outputs": [
    {
     "ename": "NameError",
     "evalue": "name 's1' is not defined",
     "output_type": "error",
     "traceback": [
      "\u001b[1;31m---------------------------------------------------------------------------\u001b[0m",
      "\u001b[1;31mNameError\u001b[0m                                 Traceback (most recent call last)",
      "Input \u001b[1;32mIn [9]\u001b[0m, in \u001b[0;36m<cell line: 5>\u001b[1;34m()\u001b[0m\n\u001b[0;32m      3\u001b[0m string \u001b[38;5;241m=\u001b[39m \u001b[38;5;124m\"\u001b[39m\u001b[38;5;124mWelcome to Python\u001b[39m\u001b[38;5;124m\"\u001b[39m\n\u001b[0;32m      4\u001b[0m \u001b[38;5;66;03m#s1 = list(filter(lambda x : x not in stopwords.words,string))\u001b[39;00m\n\u001b[1;32m----> 5\u001b[0m \u001b[43ms1\u001b[49m\n",
      "\u001b[1;31mNameError\u001b[0m: name 's1' is not defined"
     ]
    }
   ],
   "source": [
    "#import nltk\n",
    "from nltk.corpus import stopwords\n",
    "string = \"Welcome to Python\"\n",
    "#s1 = list(filter(lambda x : x not in stopwords.words,string))\n",
    "s1"
   ]
  },
  {
   "cell_type": "markdown",
   "id": "0e7267ff",
   "metadata": {},
   "source": [
    "## 32. Python program to find common items in two arrays using lambda and filter() function"
   ]
  },
  {
   "cell_type": "code",
   "execution_count": 17,
   "id": "80fda949",
   "metadata": {},
   "outputs": [
    {
     "name": "stdout",
     "output_type": "stream",
     "text": [
      "[4]\n"
     ]
    }
   ],
   "source": [
    "arr1 = [1,2,3,4,56]\n",
    "arr2 = [4,5,6.7,8,9]\n",
    "arr = list(filter(lambda x: x in arr1, arr2))\n",
    "print(arr)"
   ]
  },
  {
   "cell_type": "markdown",
   "id": "4971077b",
   "metadata": {},
   "source": [
    "## 33. Python program to filter odd numbers from the list using filter() function"
   ]
  },
  {
   "cell_type": "code",
   "execution_count": 19,
   "id": "65f87a48",
   "metadata": {},
   "outputs": [
    {
     "name": "stdout",
     "output_type": "stream",
     "text": [
      "[4, 6, 8]\n"
     ]
    }
   ],
   "source": [
    "arr2 = [4,5,6,7,8,9]\n",
    "arr = list(filter(lambda x: x%2==0,arr2))\n",
    "print(arr)"
   ]
  },
  {
   "cell_type": "markdown",
   "id": "287a5c5c",
   "metadata": {},
   "source": [
    "## 34. Python program to filter even numbers from the list using filter() function"
   ]
  },
  {
   "cell_type": "code",
   "execution_count": 20,
   "id": "bef221a0",
   "metadata": {},
   "outputs": [
    {
     "name": "stdout",
     "output_type": "stream",
     "text": [
      "[5, 7, 9]\n"
     ]
    }
   ],
   "source": [
    "arr2 = [4,5,6,7,8,9]\n",
    "arr = list(filter(lambda x: x%2!=0,arr2))\n",
    "print(arr)"
   ]
  },
  {
   "cell_type": "markdown",
   "id": "95c22ca3",
   "metadata": {},
   "source": [
    "## 35. Python program that filters non-vowels from the list using filter() function"
   ]
  },
  {
   "cell_type": "code",
   "execution_count": 34,
   "id": "1eb1143d",
   "metadata": {},
   "outputs": [
    {
     "data": {
      "text/plain": [
       "['s', 'g', 'h', 'n']"
      ]
     },
     "execution_count": 34,
     "metadata": {},
     "output_type": "execute_result"
    }
   ],
   "source": [
    "l1 = [\"a\",\"e\",\"s\",'g','h','o','n']\n",
    "s = [\"a\",\"e\",\"i\",\"o\",\"u\"]\n",
    "l2 = list(filter(lambda x:x not in s ,l1))\n",
    "print(l2)"
   ]
  },
  {
   "cell_type": "code",
   "execution_count": 27,
   "id": "5022bd51",
   "metadata": {},
   "outputs": [
    {
     "ename": "SyntaxError",
     "evalue": "invalid syntax (477736222.py, line 2)",
     "output_type": "error",
     "traceback": [
      "\u001b[1;36m  Input \u001b[1;32mIn [27]\u001b[1;36m\u001b[0m\n\u001b[1;33m    a.\u001b[0m\n\u001b[1;37m      ^\u001b[0m\n\u001b[1;31mSyntaxError\u001b[0m\u001b[1;31m:\u001b[0m invalid syntax\n"
     ]
    }
   ],
   "source": [
    "a = \"a\"\n",
    "a."
   ]
  },
  {
   "cell_type": "code",
   "execution_count": null,
   "id": "aa23eb2a",
   "metadata": {},
   "outputs": [],
   "source": []
  }
 ],
 "metadata": {
  "kernelspec": {
   "display_name": "Python 3 (ipykernel)",
   "language": "python",
   "name": "python3"
  },
  "language_info": {
   "codemirror_mode": {
    "name": "ipython",
    "version": 3
   },
   "file_extension": ".py",
   "mimetype": "text/x-python",
   "name": "python",
   "nbconvert_exporter": "python",
   "pygments_lexer": "ipython3",
   "version": "3.8.5"
  }
 },
 "nbformat": 4,
 "nbformat_minor": 5
}
