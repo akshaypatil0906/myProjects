{
 "cells": [
  {
   "cell_type": "markdown",
   "id": "e1cc62a2",
   "metadata": {},
   "source": [
    "## 1. What is a List?"
   ]
  },
  {
   "cell_type": "raw",
   "id": "c2a690fe",
   "metadata": {},
   "source": [
    "A list is a data type in Python that is a mutable, or changeable, ordered sequence of elements. Each element or value that is inside of a list is called an item. Just as strings are defined as characters between quotes, lists are defined by having values between square brackets [ ] .\n",
    "List Properties:\n",
    "- mutable\n",
    "- ordered\n",
    "- duplicates are allowed\n",
    "- enclosed by []\n",
    "- used to store any datatype >> (heterogeneous data type)\n",
    "- it requires more memory\n",
    "- lists are slower than tuple"
   ]
  },
  {
   "cell_type": "markdown",
   "id": "770a044c",
   "metadata": {},
   "source": [
    "## 2. What is a Tuple?"
   ]
  },
  {
   "cell_type": "raw",
   "id": "7d22c8d0",
   "metadata": {},
   "source": [
    "Tuples are used to store multiple items in a single variable. Tuple is one of 4 built-in data types in Python used to store collections of data. A tuple is a collection which is ordered and immutable.\n",
    "Tuple Properties:\n",
    "- Immutable(unchangeble)\n",
    "- ordered\n",
    "- duplicates are allowed\n",
    "- enclosed by ()\n",
    "- used to store any datatype >> (heterogeneous data type)\n",
    "- it requires less memory\n",
    "- tuple are faster than list"
   ]
  },
  {
   "cell_type": "markdown",
   "id": "be0945bb",
   "metadata": {},
   "source": [
    "## 3. What is the difference between List and Tuple? "
   ]
  },
  {
   "cell_type": "raw",
   "id": "400fc927",
   "metadata": {},
   "source": [
    "The key difference between the tuples and lists is that while the tuples are immutable objects the lists are mutable. This means that tuples cannot be changed while the lists can be modified.\n",
    "Tuples are more memory efficient than the lists.\n",
    "When it comes to the time efficiency, again tuples have a slight advantage over the lists especially when lookup to a value is considered."
   ]
  },
  {
   "cell_type": "markdown",
   "id": "b25f8293",
   "metadata": {},
   "source": [
    "## 4. Python Program to find the largest element in the list "
   ]
  },
  {
   "cell_type": "code",
   "execution_count": 1,
   "id": "b227e985",
   "metadata": {},
   "outputs": [
    {
     "name": "stdout",
     "output_type": "stream",
     "text": [
      "856\n"
     ]
    }
   ],
   "source": [
    "l1 = [1,2,5,8,6,4,5,21,564,1,84,65,4,614,856,514]\n",
    "print(max(l1))"
   ]
  },
  {
   "cell_type": "markdown",
   "id": "1b00e9ed",
   "metadata": {},
   "source": [
    "## 5. Python program to interchange first and last elements in a list. "
   ]
  },
  {
   "cell_type": "code",
   "execution_count": 3,
   "id": "cb1b5dc7",
   "metadata": {},
   "outputs": [
    {
     "name": "stdout",
     "output_type": "stream",
     "text": [
      "before interchange first value is 1 and last value is 514\n",
      "after interchange first value is 514 and last value is 1\n"
     ]
    }
   ],
   "source": [
    "l1 = [1,2,5,8,6,4,5,21,564,1,84,65,4,614,856,514]\n",
    "l2 = l1[0]\n",
    "print(f\"before interchange first value is {l1[0]} and last value is {l1[-1]}\")\n",
    "l1[0] = l1[-1]\n",
    "l1[-1] = l2\n",
    "print(f\"after interchange first value is {l1[0]} and last value is {l1[-1]}\")"
   ]
  },
  {
   "cell_type": "markdown",
   "id": "fcd7b10b",
   "metadata": {},
   "source": [
    "## 6. Python program to swap two elements in a list "
   ]
  },
  {
   "cell_type": "code",
   "execution_count": 13,
   "id": "844b4b8a",
   "metadata": {},
   "outputs": [
    {
     "name": "stdout",
     "output_type": "stream",
     "text": [
      "Enter index first number in list to swap1\n",
      "Enter index of second number in list to swap3\n",
      "before interchange first value is 2 and last value is 8\n",
      "after interchange first value is 8 and last value is 2\n"
     ]
    }
   ],
   "source": [
    "l1 = [1,2,5,8,6,4,5,21,564,1,84,65,4,614,856,514]\n",
    "a = int(input(\"Enter index first number in list to swap - \"))\n",
    "b =int(input(\"Enter index of second number in list to swap - \"))\n",
    "print(f\"before interchange first value is {l1[a]} and last value is {l1[b]}\")\n",
    "c = a\n",
    "a = b\n",
    "b = c\n",
    "print(f\"after interchange first value is {l1[a]} and last value is {l1[b]}\")\n"
   ]
  },
  {
   "cell_type": "markdown",
   "id": "20f22cef",
   "metadata": {},
   "source": [
    "## 7. Python program to Reverse a List"
   ]
  },
  {
   "cell_type": "code",
   "execution_count": 25,
   "id": "1847012b",
   "metadata": {},
   "outputs": [
    {
     "name": "stdout",
     "output_type": "stream",
     "text": [
      "[514, 856, 614, 4, 65, 84, 1, 564, 21, 5, 4, 6, 8, 5, 2, 1]\n"
     ]
    }
   ],
   "source": [
    "l1 = [1,2,5,8,6,4,5,21,564,1,84,65,4,614,856,514]\n",
    "l2 = l1[::-1]\n",
    "print(l2)"
   ]
  },
  {
   "cell_type": "markdown",
   "id": "7285dc20",
   "metadata": {},
   "source": [
    "## 8. Python program to count occurrences of an element in a list "
   ]
  },
  {
   "cell_type": "code",
   "execution_count": 31,
   "id": "d8ef4f64",
   "metadata": {},
   "outputs": [
    {
     "name": "stdout",
     "output_type": "stream",
     "text": [
      "Enter the number to find count -1\n",
      "Count -  2\n"
     ]
    }
   ],
   "source": [
    "l1 = [1,2,5,8,6,4,5,21,564,1,84,65,4,614,856,514]\n",
    "a = int(input(\"Enter the number to find count -\"))\n",
    "b=0\n",
    "for i in l1:\n",
    "    if i == a:\n",
    "        b = l1.count(a)\n",
    "print(\"Count -\",b)"
   ]
  },
  {
   "cell_type": "markdown",
   "id": "5b8f1407",
   "metadata": {},
   "source": [
    "## 9. Python program to find the sum of elements in a list"
   ]
  },
  {
   "cell_type": "code",
   "execution_count": 32,
   "id": "85baa431",
   "metadata": {},
   "outputs": [
    {
     "name": "stdout",
     "output_type": "stream",
     "text": [
      "2754\n"
     ]
    }
   ],
   "source": [
    "l1 = [1,2,5,8,6,4,5,21,564,1,84,65,4,614,856,514]\n",
    "l2 = sum(l1)\n",
    "print(l2)"
   ]
  },
  {
   "cell_type": "markdown",
   "id": "2c0fc856",
   "metadata": {},
   "source": [
    "## 10. Python program to Multiply all numbers in the list"
   ]
  },
  {
   "cell_type": "code",
   "execution_count": 33,
   "id": "32c5f432",
   "metadata": {},
   "outputs": [
    {
     "name": "stdout",
     "output_type": "stream",
     "text": [
      "264196\n"
     ]
    }
   ],
   "source": [
    "l1 = [1,2,5,8,6,4,5,21,564,1,84,65,4,614,856,514]\n",
    "for i in l1:\n",
    "    i*= i\n",
    "print(i)"
   ]
  },
  {
   "cell_type": "markdown",
   "id": "11c7743c",
   "metadata": {},
   "source": [
    "## 11. What are the ways to find the length of a list "
   ]
  },
  {
   "cell_type": "code",
   "execution_count": 36,
   "id": "00e88d5f",
   "metadata": {},
   "outputs": [
    {
     "name": "stdout",
     "output_type": "stream",
     "text": [
      "16\n",
      "16\n"
     ]
    }
   ],
   "source": [
    "l1 = [1,2,5,8,6,4,5,21,564,1,84,65,4,614,856,514]\n",
    "#fisrt \n",
    "print(len(l1))\n",
    "#second\n",
    "count=0\n",
    "for i  in l1:\n",
    "    count +=1\n",
    "print(count)\n",
    "\n",
    "    "
   ]
  },
  {
   "cell_type": "markdown",
   "id": "ed8a0235",
   "metadata": {},
   "source": [
    "## 12. Python program to find the smallest and largest number in a list (Without min-max function) "
   ]
  },
  {
   "cell_type": "code",
   "execution_count": 41,
   "id": "d7c425f3",
   "metadata": {},
   "outputs": [
    {
     "name": "stdout",
     "output_type": "stream",
     "text": [
      "min - 1\n",
      "max - 856\n"
     ]
    }
   ],
   "source": [
    "l1 = [1,2,5,8,6,4,5,21,564,1,84,65,4,614,856,514]\n",
    "l2 = sorted(l1)\n",
    "print(f\"min - {l2[0]}\")\n",
    "print(f\"max - {l2[-1]}\")"
   ]
  },
  {
   "cell_type": "markdown",
   "id": "54ea1250",
   "metadata": {},
   "source": [
    "## 13. Python Program to find the area of a circle "
   ]
  },
  {
   "cell_type": "code",
   "execution_count": 42,
   "id": "bd00fc22",
   "metadata": {},
   "outputs": [
    {
     "name": "stdout",
     "output_type": "stream",
     "text": [
      "Enter redius2\n",
      "12.566370614359172\n"
     ]
    }
   ],
   "source": [
    "from math import pi\n",
    "r = eval(input(\"Enter redius\"))\n",
    "area = pi*r**2\n",
    "print(area)"
   ]
  },
  {
   "cell_type": "markdown",
   "id": "ee1b0ab2",
   "metadata": {},
   "source": [
    "## 14. Take inputs from the user to make a list. Again take one input from the user and search it in the list and delete that element, if found. Iterate over a list using for loop."
   ]
  },
  {
   "cell_type": "code",
   "execution_count": 62,
   "id": "a00e4ddf",
   "metadata": {},
   "outputs": [
    {
     "name": "stdout",
     "output_type": "stream",
     "text": [
      "Enter the input -1 2 3 4\n",
      "['1', '2', '3', '4']\n",
      "Enter value to delete - 1\n",
      "deleted\n",
      "2\n",
      "3\n",
      "4\n"
     ]
    }
   ],
   "source": [
    "l = input(\"Enter the input -\").split(\" \")\n",
    "print(l)\n",
    "inp2 = input(\"Enter value to delete - \")\n",
    "for i in l:\n",
    "    if i == inp2:\n",
    "        l.remove(inp2)\n",
    "        print(\"deleted\")\n",
    "        break\n",
    "    else:\n",
    "        print(\"Value not found\")\n",
    "for i in l:\n",
    "    print(i)"
   ]
  },
  {
   "cell_type": "markdown",
   "id": "64b1c308",
   "metadata": {},
   "source": [
    "## 15. You are given a list of integer elements. Make a new list that will store a square of elements of the previous list. (With and without list comprehension) i. Input_list = [2,5,6,12] ii. Output_list = [4,25,36,144] "
   ]
  },
  {
   "cell_type": "code",
   "execution_count": 2,
   "id": "37a87ffd",
   "metadata": {},
   "outputs": [
    {
     "name": "stdout",
     "output_type": "stream",
     "text": [
      "Without list comprehension [4, 25, 36, 144]\n",
      "list comprehension [4, 25, 36, 144]\n"
     ]
    }
   ],
   "source": [
    "l1 = [2,5,6,12]\n",
    "a = 1\n",
    "l2=[]\n",
    "for i in l1:\n",
    "    a = i**2\n",
    "    l2.append(a)\n",
    "print(\"Without list comprehension\",l2)\n",
    "l3 =[i**2 for i in l1]\n",
    "print(\"list comprehension\",l3)"
   ]
  },
  {
   "cell_type": "markdown",
   "id": "596d373d",
   "metadata": {},
   "source": [
    "## WAP to create two lists, one containing all even numbers and the other containing all odd numbers between 0 to 151 "
   ]
  },
  {
   "cell_type": "code",
   "execution_count": 95,
   "id": "715ec2eb",
   "metadata": {},
   "outputs": [
    {
     "name": "stdout",
     "output_type": "stream",
     "text": [
      "even list -  [0, 2, 4, 6, 8, 10, 12, 14, 16, 18, 20, 22, 24, 26, 28, 30, 32, 34, 36, 38, 40, 42, 44, 46, 48, 50, 52, 54, 56, 58, 60, 62, 64, 66, 68, 70, 72, 74, 76, 78, 80, 82, 84, 86, 88, 90, 92, 94, 96, 98, 100, 102, 104, 106, 108, 110, 112, 114, 116, 118, 120, 122, 124, 126, 128, 130, 132, 134, 136, 138, 140, 142, 144, 146, 148, 150]\n",
      "odd list -  [1, 3, 5, 7, 9, 11, 13, 15, 17, 19, 21, 23, 25, 27, 29, 31, 33, 35, 37, 39, 41, 43, 45, 47, 49, 51, 53, 55, 57, 59, 61, 63, 65, 67, 69, 71, 73, 75, 77, 79, 81, 83, 85, 87, 89, 91, 93, 95, 97, 99, 101, 103, 105, 107, 109, 111, 113, 115, 117, 119, 121, 123, 125, 127, 129, 131, 133, 135, 137, 139, 141, 143, 145, 147, 149, 151]\n"
     ]
    }
   ],
   "source": [
    "l1 =[]\n",
    "l2 =[]\n",
    "for i in range(0,152):\n",
    "    if i % 2 == 0:\n",
    "        l1.append(i)\n",
    "    else:\n",
    "        l2.append(i)\n",
    "print(\"even list - \",l1)\n",
    "print(\"odd list - \",l2)\n",
    "        "
   ]
  },
  {
   "cell_type": "markdown",
   "id": "adcc6018",
   "metadata": {},
   "source": [
    "## 17. Python program to Count Even and Odd numbers in a List"
   ]
  },
  {
   "cell_type": "code",
   "execution_count": 96,
   "id": "3b4231bf",
   "metadata": {},
   "outputs": [
    {
     "name": "stdout",
     "output_type": "stream",
     "text": [
      "even count  10\n",
      "odd count  6\n"
     ]
    }
   ],
   "source": [
    "l1 = [1,2,5,8,6,4,5,21,564,1,84,65,4,614,856,514]\n",
    "count = 0\n",
    "count1 = 0\n",
    "for i in l1:\n",
    "    if i % 2 == 0:\n",
    "        count+=1\n",
    "    else:\n",
    "        count1 +=1\n",
    "print(\"even count \",count)\n",
    "print(\"odd count \",count1)"
   ]
  },
  {
   "cell_type": "markdown",
   "id": "0220e9fe",
   "metadata": {},
   "source": [
    "## 18. WAP to make new lists, containing only numbers which are divisible by 4, 6, 8, 10, 3, 5, 7, and 9 in separate lists for range(0,151)"
   ]
  },
  {
   "cell_type": "code",
   "execution_count": 115,
   "id": "6a036fdb",
   "metadata": {},
   "outputs": [
    {
     "name": "stdout",
     "output_type": "stream",
     "text": [
      "list -  [0, 3, 4, 5, 6, 7, 8, 9, 10, 12, 14, 15, 16, 18, 20, 21, 24, 25, 27, 28, 30, 32, 33, 35, 36, 39, 40, 42, 44, 45, 48, 49, 50, 51, 52, 54, 55, 56, 57, 60, 63, 64, 65, 66, 68, 69, 70, 72, 75, 76, 77, 78, 80, 81, 84, 85, 87, 88, 90, 91, 92, 93, 95, 96, 98, 99, 100, 102, 104, 105, 108, 110, 111, 112, 114, 115, 116, 117, 119, 120, 123, 124, 125, 126, 128, 129, 130, 132, 133, 135, 136, 138, 140, 141, 144, 145, 147, 148, 150]\n"
     ]
    }
   ],
   "source": [
    "l1 =[]\n",
    "l2 =[]\n",
    "for i in range(0,151):\n",
    "    if i % 4==0 or i%6==0 or i%8==0 or i%10 ==0 or i%3==0 or i%5==0 or i%7==0 or i%9 ==0:\n",
    "        l1.append(i)\n",
    "print(\"list - \",l1)"
   ]
  },
  {
   "cell_type": "markdown",
   "id": "956a35c9",
   "metadata": {},
   "source": [
    "## 19. From a list containing ints, strings, and floats, make three lists to store them separately. "
   ]
  },
  {
   "cell_type": "code",
   "execution_count": 130,
   "id": "fc9f4cdb",
   "metadata": {},
   "outputs": [
    {
     "name": "stdout",
     "output_type": "stream",
     "text": [
      "[1, 5, 8, 6, 5, 21, 564, 1, 84, 65, 4, 856, 514]\n",
      "[2.3, 4.5]\n",
      "['py', 'hi']\n"
     ]
    }
   ],
   "source": [
    "l1 = [1,2.3,5,8,6,4.5,5,21,564,1,84,65,4,\"py\",\"hi\",856,514]\n",
    "l2 =[]\n",
    "l3 =[]\n",
    "l4 =[]\n",
    "for i in l1:\n",
    "    if  isinstance(i,int):\n",
    "        l2.append(i)\n",
    "    elif isinstance(i,float):\n",
    "        l3.append(i)\n",
    "    elif isinstance(i,str):\n",
    "        l4.append(i)\n",
    "print(l2)\n",
    "print(l3)\n",
    "print(l4)"
   ]
  },
  {
   "cell_type": "markdown",
   "id": "2e9dab6a",
   "metadata": {},
   "source": [
    "## 20. What’s The Difference Between The Python append() and extend() Methods?"
   ]
  },
  {
   "cell_type": "raw",
   "id": "53929743",
   "metadata": {},
   "source": [
    "append() adds a single element to the end of the list while . extend() can add multiple individual elements to the end of the list."
   ]
  },
  {
   "cell_type": "markdown",
   "id": "baa518e4",
   "metadata": {},
   "source": [
    "## 21. Write a Python program to append a list to the second list "
   ]
  },
  {
   "cell_type": "code",
   "execution_count": 149,
   "id": "4856c8b4",
   "metadata": {},
   "outputs": [
    {
     "name": "stdout",
     "output_type": "stream",
     "text": [
      "['a', 'b', 1, 2, 3, ['c', 'd', 4, 5, 6]]\n"
     ]
    }
   ],
   "source": [
    "l1 =[\"a\",\"b\",1,2,3]\n",
    "l2 =[\"c\",\"d\",4,5,6]\n",
    "l1.append(l2)\n",
    "print(l1)"
   ]
  },
  {
   "cell_type": "markdown",
   "id": "a30db629",
   "metadata": {},
   "source": [
    "## 22. Write a Python program to find the third-largest number in a list "
   ]
  },
  {
   "cell_type": "code",
   "execution_count": 151,
   "id": "c6d2473f",
   "metadata": {},
   "outputs": [
    {
     "name": "stdout",
     "output_type": "stream",
     "text": [
      "564\n"
     ]
    }
   ],
   "source": [
    "l1 = [1,2,5,8,6,4,5,21,564,1,84,65,4,614,856,514]\n",
    "l1.sort(reverse = True)\n",
    "print(l1[2])"
   ]
  },
  {
   "cell_type": "markdown",
   "id": "8d1ebd22",
   "metadata": {},
   "source": [
    "## 23. Write a Python program to get the frequency of the elements in a list. "
   ]
  },
  {
   "cell_type": "code",
   "execution_count": 86,
   "id": "fc2b9849",
   "metadata": {},
   "outputs": [
    {
     "name": "stdout",
     "output_type": "stream",
     "text": [
      "2 frequency of  11\n",
      "3 frequency of  21\n",
      "2 frequency of  11\n",
      "3 frequency of  21\n",
      "1 frequency of  31\n",
      "3 frequency of  21\n",
      "1 frequency of  41\n"
     ]
    }
   ],
   "source": [
    "l1 = [11,21,11,21,31,21,41]\n",
    "for i in l1:\n",
    "\n",
    "    if l1.count(i) > 1:\n",
    "        l2 = l1.count(i)\n",
    "        print(l2, end=\" \")  \n",
    "    else:\n",
    "        l3 = l1.count(i)\n",
    "        print(l3, end=\" \")\n",
    "    print(\"frequency of \",i)\n",
    "        "
   ]
  },
  {
   "cell_type": "markdown",
   "id": "9ca7eb6e",
   "metadata": {},
   "source": [
    "## 24. Write a Python program to check whether a list contains a sublist "
   ]
  },
  {
   "cell_type": "code",
   "execution_count": 156,
   "id": "80bd083b",
   "metadata": {},
   "outputs": [
    {
     "name": "stdout",
     "output_type": "stream",
     "text": [
      "subList present\n"
     ]
    }
   ],
   "source": [
    "l1 = [1,2.3,5,8,[6,4.5],5,21,564,1,84,65,4,[\"py\",\"hi\"],856,514]\n",
    "for i in l1:\n",
    "    if  isinstance(i,list):\n",
    "        print(\"subList present\")\n",
    "        break\n",
    "else:\n",
    "    print(\"Sublist not present\")\n",
    "        \n",
    "        "
   ]
  },
  {
   "cell_type": "markdown",
   "id": "93d1d635",
   "metadata": {},
   "source": [
    "## 25. Write a Python program to generate all sublists of a list"
   ]
  },
  {
   "cell_type": "code",
   "execution_count": 55,
   "id": "76523bd1",
   "metadata": {},
   "outputs": [
    {
     "name": "stdout",
     "output_type": "stream",
     "text": [
      "[[], [1], [1, 2], [2], [1, 2, [3, 4]], [2, [3, 4]], [[3, 4]]]\n"
     ]
    }
   ],
   "source": [
    "l1 = [1,2,[3,4]]\n",
    "lists = [[]]\n",
    "for i in range(len(l1) + 1):\n",
    "    for j in range(i):\n",
    "        lists.append(l1[j: i])\n",
    "print(lists)\n",
    "\n",
    "        "
   ]
  },
  {
   "cell_type": "markdown",
   "id": "457fdf09",
   "metadata": {},
   "source": [
    "## 26. Write a Python program to find common items from two lists "
   ]
  },
  {
   "cell_type": "code",
   "execution_count": 47,
   "id": "eac2ff3c",
   "metadata": {},
   "outputs": [
    {
     "name": "stdout",
     "output_type": "stream",
     "text": [
      "1 5 4 8 56 54 "
     ]
    }
   ],
   "source": [
    "l1 =[1,2,5,4,6,8,56,12,54,36]\n",
    "l2 =[65,54,32,8,4,5,1,56]\n",
    "for i in l1:\n",
    "    for j in l2:\n",
    "        if j == i:\n",
    "            print(j,end=\" \")\n",
    "            "
   ]
  },
  {
   "cell_type": "markdown",
   "id": "d24a020f",
   "metadata": {},
   "source": [
    "## 27. How to flatten a list in python? "
   ]
  },
  {
   "cell_type": "code",
   "execution_count": 168,
   "id": "1f9ab7a1",
   "metadata": {},
   "outputs": [
    {
     "name": "stdout",
     "output_type": "stream",
     "text": [
      "[1, 2, 4, 5, 5, 6, 4, 5, 6, 4, 8, 2]\n"
     ]
    }
   ],
   "source": [
    "l1 = [[1,2,4],[5,5,6,4],[5,6,4,8,2,]]\n",
    "l2=[]\n",
    "for i in l1:\n",
    "    for j in i:\n",
    "        l2.append(j)\n",
    "print(l2)\n",
    "        "
   ]
  },
  {
   "cell_type": "markdown",
   "id": "16301b0d",
   "metadata": {},
   "source": [
    "## 28. How to sort a list in ascending and descending order without using the sort function?"
   ]
  },
  {
   "cell_type": "code",
   "execution_count": 181,
   "id": "ef06a0a7",
   "metadata": {},
   "outputs": [
    {
     "name": "stdout",
     "output_type": "stream",
     "text": [
      "[1, 2, 4, 5, 6, 8, 12, 36, 54, 56]\n"
     ]
    }
   ],
   "source": [
    "l1 =[1,2,5,4,6,8,56,12,54,36]\n",
    "#l2 = reversed(l1)\n",
    "#l1.reverse()\n",
    "#print(l1)\n",
    "for i in range(len(l1)):\n",
    "    for j in range(i+1, len(l1)):\n",
    "        if l1[i] > l1[j]:\n",
    "            l1[i],l1[j] = l1[j],l1[i]\n",
    "print(l1)"
   ]
  },
  {
   "cell_type": "markdown",
   "id": "e86fca3d",
   "metadata": {},
   "source": [
    "## 29. How to sort a tuple? "
   ]
  },
  {
   "cell_type": "code",
   "execution_count": 183,
   "id": "70162eb5",
   "metadata": {},
   "outputs": [
    {
     "data": {
      "text/plain": [
       "[1, 2, 4, 5, 6, 8, 12, 36, 54, 56]"
      ]
     },
     "execution_count": 183,
     "metadata": {},
     "output_type": "execute_result"
    }
   ],
   "source": [
    "#using sorted function\n",
    "t1 = (1,2,5,4,6,8,56,12,54,36)\n",
    "t2 = sorted(t1)\n",
    "t2"
   ]
  },
  {
   "cell_type": "markdown",
   "id": "0baa5dbb",
   "metadata": {},
   "source": [
    "## 30. Write a Python program to convert a list of multiple integers into a single integer a. [11, 33, 50] >>> 113350 "
   ]
  },
  {
   "cell_type": "code",
   "execution_count": 218,
   "id": "efebdc98",
   "metadata": {},
   "outputs": [
    {
     "name": "stdout",
     "output_type": "stream",
     "text": [
      "113350\n"
     ]
    }
   ],
   "source": [
    "l1 = [11,33,50]\n",
    "\n",
    "for i in l1:\n",
    "    print(i,end=\"\")\n",
    "print()"
   ]
  },
  {
   "cell_type": "markdown",
   "id": "e9e8b1b9",
   "metadata": {},
   "source": [
    "## 31. Difference between del and clear?"
   ]
  },
  {
   "cell_type": "raw",
   "id": "f0da73a0",
   "metadata": {},
   "source": [
    "clear function is used to delete all the items in the list\n",
    "del function is used to delete whole list"
   ]
  },
  {
   "cell_type": "code",
   "execution_count": 220,
   "id": "d88a1072",
   "metadata": {},
   "outputs": [
    {
     "name": "stdout",
     "output_type": "stream",
     "text": [
      "[]\n"
     ]
    },
    {
     "ename": "NameError",
     "evalue": "name 'l1' is not defined",
     "output_type": "error",
     "traceback": [
      "\u001b[1;31m---------------------------------------------------------------------------\u001b[0m",
      "\u001b[1;31mNameError\u001b[0m                                 Traceback (most recent call last)",
      "Input \u001b[1;32mIn [220]\u001b[0m, in \u001b[0;36m<cell line: 5>\u001b[1;34m()\u001b[0m\n\u001b[0;32m      3\u001b[0m \u001b[38;5;28mprint\u001b[39m(l1)\n\u001b[0;32m      4\u001b[0m \u001b[38;5;28;01mdel\u001b[39;00m l1\n\u001b[1;32m----> 5\u001b[0m \u001b[38;5;28mprint\u001b[39m(\u001b[43ml1\u001b[49m)\n",
      "\u001b[1;31mNameError\u001b[0m: name 'l1' is not defined"
     ]
    }
   ],
   "source": [
    "\n",
    "l1 = [11,33,50]\n",
    "l1.clear()\n",
    "print(l1)\n",
    "del l1\n",
    "print(l1)"
   ]
  },
  {
   "cell_type": "markdown",
   "id": "a88402aa",
   "metadata": {},
   "source": [
    "## 32. Difference between remove and pop?"
   ]
  },
  {
   "cell_type": "code",
   "execution_count": null,
   "id": "556e353e",
   "metadata": {},
   "outputs": [],
   "source": [
    "remove function is used to remove specific item in list\n",
    "pop function is used to remove specific index item in list"
   ]
  },
  {
   "cell_type": "code",
   "execution_count": 224,
   "id": "9bbe72ee",
   "metadata": {},
   "outputs": [
    {
     "name": "stdout",
     "output_type": "stream",
     "text": [
      "[11, 33]\n",
      "[33]\n"
     ]
    }
   ],
   "source": [
    "l1 = [11,33,50]\n",
    "l1.pop()\n",
    "print(l1)\n",
    "l1.remove(11)\n",
    "print(l1)"
   ]
  },
  {
   "cell_type": "markdown",
   "id": "010100fe",
   "metadata": {},
   "source": [
    "## 33. Difference between indexing and Slicing?"
   ]
  },
  {
   "cell_type": "code",
   "execution_count": 226,
   "id": "a004e615",
   "metadata": {},
   "outputs": [
    {
     "name": "stdout",
     "output_type": "stream",
     "text": [
      "indexing =  1\n",
      "Slicing =  [1, 2, 3]\n"
     ]
    }
   ],
   "source": [
    "#Indexing is used to obtain individual elements.\n",
    "l1 = [1,2,3,4]\n",
    "print(\"indexing = \",l1[0])\n",
    "#Slicing is used to obtain a sequence of elements.\n",
    "print(\"Slicing = \",l1[0:3])"
   ]
  },
  {
   "cell_type": "markdown",
   "id": "cea28d37",
   "metadata": {},
   "source": [
    "## 34. Difference between sort and sorted?"
   ]
  },
  {
   "cell_type": "raw",
   "id": "7ec9b5b7",
   "metadata": {},
   "source": [
    "The primary difference between the two is that list. sort() will sort the list in-place, mutating its indexes and returning None , whereas sorted() will return a new sorted list leaving the original list unchanged."
   ]
  },
  {
   "cell_type": "code",
   "execution_count": 234,
   "id": "a17a172e",
   "metadata": {},
   "outputs": [
    {
     "name": "stdout",
     "output_type": "stream",
     "text": [
      "[1, 3, 4, 5, 13, 22, 25, 45, 51, 65]\n",
      "[1, 3, 4, 5, 13, 22, 25, 45, 51, 65]\n"
     ]
    }
   ],
   "source": [
    "l1 = [1,22,65,45,25,5,13,51,3,4]\n",
    "l1.sort()\n",
    "print (l1)\n",
    "l2 = sorted(l1)\n",
    "print(l2)"
   ]
  },
  {
   "cell_type": "markdown",
   "id": "cb802ce3",
   "metadata": {},
   "source": [
    "## 35. Difference between reverse and reversed? "
   ]
  },
  {
   "cell_type": "raw",
   "id": "389359fc",
   "metadata": {},
   "source": [
    "reverse() actually reverses the elements in the container. \n",
    "reversed() doesn't actually reverse anything, it merely returns an object that can be used to iterate over the container's elements in reverse order."
   ]
  },
  {
   "cell_type": "code",
   "execution_count": 239,
   "id": "1c1f980c",
   "metadata": {},
   "outputs": [
    {
     "name": "stdout",
     "output_type": "stream",
     "text": [
      "[4, 3, 51, 13, 5, 25, 45, 65, 22, 1]\n",
      "<list_reverseiterator object at 0x000002B31B25C700>\n"
     ]
    }
   ],
   "source": [
    "l1 = [1,22,65,45,25,5,13,51,3,4]\n",
    "l1.reverse()\n",
    "print(l1)\n",
    "l2 =reversed(l1)\n",
    "print(l2)"
   ]
  },
  {
   "cell_type": "markdown",
   "id": "5bdd2a46",
   "metadata": {},
   "source": [
    "## 36. Difference between copy and deep copy? "
   ]
  },
  {
   "cell_type": "raw",
   "id": "5f2fd790",
   "metadata": {},
   "source": [
    "Deep copy doesn't reflect changes made to the new/copied object in the original object. Shallow Copy stores the copy of the original object and points the references to the objects."
   ]
  },
  {
   "cell_type": "code",
   "execution_count": 243,
   "id": "6cdf12a3",
   "metadata": {},
   "outputs": [
    {
     "name": "stdout",
     "output_type": "stream",
     "text": [
      "['a', 'b', 'c', 1, 2, 3, 4, 'd']\n",
      "['a', 'b', 'c', 1, 2, 3, 4]\n"
     ]
    }
   ],
   "source": [
    "from copy import copy, deepcopy\n",
    "a = [\"a\",\"b\",\"c\",1,2,3,4]\n",
    "b =copy(a)\n",
    "a.append(\"d\")\n",
    "print(a)\n",
    "print(b)"
   ]
  },
  {
   "cell_type": "markdown",
   "id": "18efeca4",
   "metadata": {},
   "source": [
    "## 37. How to check whether the list is empty or not?"
   ]
  },
  {
   "cell_type": "code",
   "execution_count": 247,
   "id": "3d6b2a3f",
   "metadata": {},
   "outputs": [
    {
     "name": "stdout",
     "output_type": "stream",
     "text": [
      "List is not Empty\n"
     ]
    }
   ],
   "source": [
    "l1 = [1]\n",
    "if len(l1) < 1:\n",
    "    print(\"List is Empty\")\n",
    "else:\n",
    "    print(\"List is not Empty\")"
   ]
  },
  {
   "cell_type": "markdown",
   "id": "9cfd2108",
   "metadata": {},
   "source": [
    "## 38. How to concatenate two lists?"
   ]
  },
  {
   "cell_type": "code",
   "execution_count": 249,
   "id": "4084e7f2",
   "metadata": {},
   "outputs": [
    {
     "name": "stdout",
     "output_type": "stream",
     "text": [
      "['Akshay', 'Patil']\n"
     ]
    }
   ],
   "source": [
    "l1 = [\"Akshay\"]\n",
    "l2 = [\"Patil\"]\n",
    "print(l1+l2)"
   ]
  },
  {
   "cell_type": "markdown",
   "id": "d2cdf546",
   "metadata": {},
   "source": [
    "## 39. How to find the occurrences of an element in the python list? "
   ]
  },
  {
   "cell_type": "code",
   "execution_count": 253,
   "id": "54a4a4ef",
   "metadata": {},
   "outputs": [
    {
     "name": "stdout",
     "output_type": "stream",
     "text": [
      "Enter number - 1\n",
      "3\n"
     ]
    }
   ],
   "source": [
    "l1 = [1,2,3,8,5,4,1,8,6,8,9,7,6,2,1,3,3,6,5,2,8,4,7,9]\n",
    "inp = eval(input(\"Enter number - \"))\n",
    "count =0\n",
    "for i in l1:\n",
    "    if inp == i:\n",
    "        count +=1\n",
    "print(count)"
   ]
  },
  {
   "cell_type": "markdown",
   "id": "f288c7cf",
   "metadata": {},
   "source": [
    "## 40. How to flatten a list in python?"
   ]
  },
  {
   "cell_type": "code",
   "execution_count": 255,
   "id": "a18cdc4d",
   "metadata": {},
   "outputs": [
    {
     "name": "stdout",
     "output_type": "stream",
     "text": [
      "[1, 2, 5, 6, 4, 5, 7, 8, 9, 5, 6, 4, 5, 2, 5, 6, 6, 4, 8, 2]\n"
     ]
    }
   ],
   "source": [
    "l1 = [[1,2,5,6,4],[5,7,8,9,5,6,4],[5,2,5,6,6,4,8,2,]]\n",
    "l2=[]\n",
    "for i in l1:\n",
    "    for j in i:\n",
    "        l2.append(j)\n",
    "print(l2)\n",
    "        "
   ]
  },
  {
   "cell_type": "code",
   "execution_count": null,
   "id": "36efb971",
   "metadata": {},
   "outputs": [],
   "source": []
  }
 ],
 "metadata": {
  "kernelspec": {
   "display_name": "Python 3 (ipykernel)",
   "language": "python",
   "name": "python3"
  },
  "language_info": {
   "codemirror_mode": {
    "name": "ipython",
    "version": 3
   },
   "file_extension": ".py",
   "mimetype": "text/x-python",
   "name": "python",
   "nbconvert_exporter": "python",
   "pygments_lexer": "ipython3",
   "version": "3.8.5"
  }
 },
 "nbformat": 4,
 "nbformat_minor": 5
}
